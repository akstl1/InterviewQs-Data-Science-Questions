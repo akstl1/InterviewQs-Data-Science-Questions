{
 "cells": [
  {
   "cell_type": "markdown",
   "metadata": {},
   "source": []
  },
  {
   "cell_type": "markdown",
   "metadata": {},
   "source": []
  },
  {
   "cell_type": "markdown",
   "metadata": {},
   "source": []
  },
  {
   "cell_type": "markdown",
   "metadata": {},
   "source": []
  },
  {
   "cell_type": "markdown",
   "metadata": {},
   "source": [
    "## 03/18 Question\n",
    "\n",
    "It's often hypothesized (and backed in some studies) that smiling can increase leniency, or reduce the effects of wrongdoing among other benefits.\n",
    "\n",
    "\n",
    "    \n",
    "A 1995 study by Marianne LaFrance & Marvin Hecht produced a dataset containing 4 different types of smiles, as well as the judge's leniency against judging wrongdoing when seeing these smiles.\n",
    "\n",
    "\n",
    "    \n",
    "The dataset can be interpreted as follows:\n",
    "\n",
    "\n",
    "    \n",
    "Smile:\n",
    "\n",
    "1 - false smile\n",
    "\n",
    "    \n",
    "2 - is felt smile\n",
    "\n",
    "    \n",
    "3 - is miserable smile\n",
    "\n",
    "    \n",
    "4 - is neutral control\n",
    "\n",
    "    \n",
    "\n",
    "    \n",
    "Leniency: a measure of how lenient the judgments were, higher means the judges were more lenient\n",
    "    \n",
    "\n",
    "\n",
    "    \n",
    "Given the above information:\n",
    "\n",
    "\n",
    "    \n",
    "\n",
    "    \n",
    "Plot the leniency by smile type in a parallel box plot\n",
    "\n",
    "    \n",
    "Based on the box plot above, which smile condition resulted in the highest leniency?\n",
    "\n",
    "    \n",
    "Is the median leniency for the false smile  lower than the 75th percentile leniency score for the neutral expression?\n",
    "\n",
    "## Approach\n",
    "\n",
    "To plot the requested data, I will use the boxplot feature in seaborn. I will plot the x variable, smile, against the y variable, leniency. \n",
    "\n",
    "For the second question, I will group the provided data by smile type and use the describe method to determine whether the median leniency for false smile is lower than the 75th percential score for a neutral expression."
   ]
  },
  {
   "cell_type": "code",
   "execution_count": 2,
   "metadata": {},
   "outputs": [],
   "source": [
    "import matplotlib.pyplot as plt\n",
    "import numpy as np\n",
    "import pandas as pd\n",
    "import seaborn as sns"
   ]
  },
  {
   "cell_type": "code",
   "execution_count": 3,
   "metadata": {
    "scrolled": true
   },
   "outputs": [
    {
     "data": {
      "text/html": [
       "<div>\n",
       "<style scoped>\n",
       "    .dataframe tbody tr th:only-of-type {\n",
       "        vertical-align: middle;\n",
       "    }\n",
       "\n",
       "    .dataframe tbody tr th {\n",
       "        vertical-align: top;\n",
       "    }\n",
       "\n",
       "    .dataframe thead th {\n",
       "        text-align: right;\n",
       "    }\n",
       "</style>\n",
       "<table border=\"1\" class=\"dataframe\">\n",
       "  <thead>\n",
       "    <tr style=\"text-align: right;\">\n",
       "      <th></th>\n",
       "      <th>smile</th>\n",
       "      <th>leniency</th>\n",
       "    </tr>\n",
       "  </thead>\n",
       "  <tbody>\n",
       "    <tr>\n",
       "      <th>0</th>\n",
       "      <td>1</td>\n",
       "      <td>2.5</td>\n",
       "    </tr>\n",
       "    <tr>\n",
       "      <th>1</th>\n",
       "      <td>1</td>\n",
       "      <td>5.5</td>\n",
       "    </tr>\n",
       "    <tr>\n",
       "      <th>2</th>\n",
       "      <td>1</td>\n",
       "      <td>6.5</td>\n",
       "    </tr>\n",
       "    <tr>\n",
       "      <th>3</th>\n",
       "      <td>1</td>\n",
       "      <td>3.5</td>\n",
       "    </tr>\n",
       "    <tr>\n",
       "      <th>4</th>\n",
       "      <td>1</td>\n",
       "      <td>3.0</td>\n",
       "    </tr>\n",
       "  </tbody>\n",
       "</table>\n",
       "</div>"
      ],
      "text/plain": [
       "   smile  leniency\n",
       "0      1       2.5\n",
       "1      1       5.5\n",
       "2      1       6.5\n",
       "3      1       3.5\n",
       "4      1       3.0"
      ]
     },
     "execution_count": 3,
     "metadata": {},
     "output_type": "execute_result"
    }
   ],
   "source": [
    "df = pd.read_csv('https://raw.githubusercontent.com/erood/interviewqs.com_code_snippets/master/Datasets/smile_leniency.csv')\n",
    "df.head()"
   ]
  },
  {
   "cell_type": "code",
   "execution_count": 5,
   "metadata": {},
   "outputs": [
    {
     "data": {
      "text/plain": [
       "<AxesSubplot:xlabel='smile', ylabel='leniency'>"
      ]
     },
     "execution_count": 5,
     "metadata": {},
     "output_type": "execute_result"
    },
    {
     "data": {
      "image/png": "[encoded data removed]",
      "text/plain": [
       "<Figure size 432x288 with 1 Axes>"
      ]
     },
     "metadata": {
      "needs_background": "light"
     },
     "output_type": "display_data"
    }
   ],
   "source": [
    "sns.boxplot(x=\"smile\", y=\"leniency\", data=df)"
   ]
  },
  {
   "cell_type": "code",
   "execution_count": 7,
   "metadata": {
    "scrolled": true
   },
   "outputs": [
    {
     "data": {
      "text/html": [
       "<div>\n",
       "<style scoped>\n",
       "    .dataframe tbody tr th:only-of-type {\n",
       "        vertical-align: middle;\n",
       "    }\n",
       "\n",
       "    .dataframe tbody tr th {\n",
       "        vertical-align: top;\n",
       "    }\n",
       "\n",
       "    .dataframe thead tr th {\n",
       "        text-align: left;\n",
       "    }\n",
       "\n",
       "    .dataframe thead tr:last-of-type th {\n",
       "        text-align: right;\n",
       "    }\n",
       "</style>\n",
       "<table border=\"1\" class=\"dataframe\">\n",
       "  <thead>\n",
       "    <tr>\n",
       "      <th></th>\n",
       "      <th colspan=\"8\" halign=\"left\">leniency</th>\n",
       "    </tr>\n",
       "    <tr>\n",
       "      <th></th>\n",
       "      <th>count</th>\n",
       "      <th>mean</th>\n",
       "      <th>std</th>\n",
       "      <th>min</th>\n",
       "      <th>25%</th>\n",
       "      <th>50%</th>\n",
       "      <th>75%</th>\n",
       "      <th>max</th>\n",
       "    </tr>\n",
       "    <tr>\n",
       "      <th>smile</th>\n",
       "      <th></th>\n",
       "      <th></th>\n",
       "      <th></th>\n",
       "      <th></th>\n",
       "      <th></th>\n",
       "      <th></th>\n",
       "      <th></th>\n",
       "      <th></th>\n",
       "    </tr>\n",
       "  </thead>\n",
       "  <tbody>\n",
       "    <tr>\n",
       "      <th>1</th>\n",
       "      <td>34.0</td>\n",
       "      <td>5.367647</td>\n",
       "      <td>1.827023</td>\n",
       "      <td>2.5</td>\n",
       "      <td>3.625</td>\n",
       "      <td>5.50</td>\n",
       "      <td>6.500</td>\n",
       "      <td>9.0</td>\n",
       "    </tr>\n",
       "    <tr>\n",
       "      <th>2</th>\n",
       "      <td>34.0</td>\n",
       "      <td>4.911765</td>\n",
       "      <td>1.680866</td>\n",
       "      <td>2.5</td>\n",
       "      <td>3.500</td>\n",
       "      <td>4.75</td>\n",
       "      <td>5.875</td>\n",
       "      <td>9.0</td>\n",
       "    </tr>\n",
       "    <tr>\n",
       "      <th>3</th>\n",
       "      <td>34.0</td>\n",
       "      <td>4.911765</td>\n",
       "      <td>1.453682</td>\n",
       "      <td>2.5</td>\n",
       "      <td>4.000</td>\n",
       "      <td>4.75</td>\n",
       "      <td>5.500</td>\n",
       "      <td>8.0</td>\n",
       "    </tr>\n",
       "    <tr>\n",
       "      <th>4</th>\n",
       "      <td>34.0</td>\n",
       "      <td>4.117647</td>\n",
       "      <td>1.522850</td>\n",
       "      <td>2.0</td>\n",
       "      <td>3.000</td>\n",
       "      <td>4.00</td>\n",
       "      <td>4.875</td>\n",
       "      <td>8.0</td>\n",
       "    </tr>\n",
       "  </tbody>\n",
       "</table>\n",
       "</div>"
      ],
      "text/plain": [
       "      leniency                                                  \n",
       "         count      mean       std  min    25%   50%    75%  max\n",
       "smile                                                           \n",
       "1         34.0  5.367647  1.827023  2.5  3.625  5.50  6.500  9.0\n",
       "2         34.0  4.911765  1.680866  2.5  3.500  4.75  5.875  9.0\n",
       "3         34.0  4.911765  1.453682  2.5  4.000  4.75  5.500  8.0\n",
       "4         34.0  4.117647  1.522850  2.0  3.000  4.00  4.875  8.0"
      ]
     },
     "execution_count": 7,
     "metadata": {},
     "output_type": "execute_result"
    }
   ],
   "source": [
    "df.groupby(by=\"smile\").describe()"
   ]
  },
  {
   "cell_type": "markdown",
   "metadata": {},
   "source": [
    "Based on the above table, the median result for a false smile (1 smile score) is 5.5 while the 75th percentile for neutral (4 smile score) is 5.875. Therefore, we can see that the median score for a false smile is NOT less than the 75th percentile score for a neutral expression."
   ]
  },
  {
   "cell_type": "markdown",
   "metadata": {},
   "source": []
  },
  {
   "cell_type": "markdown",
   "metadata": {},
   "source": [
    "## 03/14 Question\n",
    "\n",
    "Provided the following tables, write a SQL query to pull the average GPA (grade_point in table) by subject for completed classes.\n",
    "\n",
    "\n",
    "                    \n",
    "\n",
    "                    \n",
    " Table 1: student_classes\n",
    "\n",
    "\n",
    "                    \n",
    "Column Name\tData Type\tDescription\n",
    "student_id\tinteger\tid of the student\n",
    "class_id\tinteger\twill be a value between 0-12, which corresponds\n",
    "subject\tstring\tsubject the class falls into\n",
    "class_name\tstring\tname of the class\n",
    "complete\tboolean\tindicates if student has completed class\n",
    "\n",
    "                    \n",
    "\n",
    "                    \n",
    "\n",
    " Table 2: student_grades\n",
    "\n",
    "\n",
    "                    \n",
    "Column Name\tData Type\tDescription\n",
    "student_id\tinteger\tid of the student\n",
    "class_id\tinteger\tid of class student is enrolled in\n",
    "grade_point\tinteger\tgrade point achieved, between 0.0 - 4.0 with one decimal increments\n",
    "\n",
    "## Approach\n",
    "\n",
    "To structure this query I will:\n",
    "- group the data by student and subject so that each student's results and each subject are displayed individually\n",
    "- select student id, subject, and average grade_point so that each category and average GPA are shown\n",
    "- join the two tables on student_id and class_id so grades are only input for the corresponding student and correct class\n",
    "- filter the table by the \"complete\" column so that only completed classes are considered\n",
    "\n",
    "With the above structure, I will have an output showing a student's average GPA grouped by subject and for complete classes only.\n",
    "\n",
    "## Solution\n",
    "\n",
    "SELECT a.student_id, a.subject, AVG(b.grade_point) <br>\n",
    "FROM student_classes a<br>\n",
    "JOIN student_grades b<br>\n",
    "ON a.student_id=b.student_id AND a.class_id=b.class_id<br>\n",
    "GROUP BY a.student, a.subject<br>\n",
    "HAVING a.complete=1<br>"
   ]
  },
  {
   "cell_type": "markdown",
   "metadata": {},
   "source": []
  },
  {
   "cell_type": "markdown",
   "metadata": {},
   "source": [
    "## 03/09 Question\n",
    "\n",
    "Suppose you are playing a game where there are two fair six-sided dice, and every time you roll the dice and they add up to 9, you win \\\\$50. However, to roll the dice costs \\\\$20 to play. Is this a game you're willing to play?\n",
    "\n",
    "## Approach\n",
    "\n",
    "This question is about probability and expected value concepts. In this scenario, there are 36 total combinations of dice possible since each die has 6 numbers on it. Of those combinations, only 4 yield a total result of 9: (6,3), (3,6), (5,4), (4,5). To calculate expected value of a roll, we multiply the probability of positive and negative outcomes by their values. In our case, good rolls lead to \\\\$50 and bad rolls lead to -\\\\$20. Thus the expected value is:\n",
    "\n",
    "(4/36)\\*\\\\$50 + (32/36)\\*-\\\\$20 = -\\\\$12.21\n",
    "\n",
    "Since the expected value of rolling the die is less than $0, we anticipate losing money each roll. __Consequently, this is not a game I am willing to play assuming my primary goal is NOT to lose money.__"
   ]
  },
  {
   "cell_type": "markdown",
   "metadata": {},
   "source": [
    "## 03/07 Question\n",
    "\n",
    "Suppose you are given P, which is list of j integer intervals, where j is the number of intervals. The intervals are in a format [a, b]. \n",
    "\n",
    "\n",
    "    \n",
    "    \n",
    "Given an integer z, can you return the number of overlapping intervals for point z?\n",
    "\n",
    "\n",
    "    \n",
    "For example:\n",
    "\n",
    "\n",
    "    \n",
    "    \n",
    "#Input:\n",
    "    \n",
    "\n",
    "P =  [[0, 2], [3, 7], [4, 6], [7, 8], [1 ,5]]\n",
    "    \n",
    "\n",
    "z = 5\n",
    "    \n",
    "\n",
    "#Output:\n",
    "    \n",
    "\n",
    "3\n",
    "   \n",
    "At z = 5, there are 3 intervals that overlap. The intervals are: [3, 7], [4, 6], and [1, 5]\n",
    "\n",
    "## Approach\n",
    "\n",
    "To solve this problem, I will create a function that takes in an array and number. For each interval in the array, I will test whether or not the provided number is in between the numbers in that interval. If it is, I will add one to a counter/result variable.\n",
    "\n",
    "I will then return the final tally of this result variable as the answer."
   ]
  },
  {
   "cell_type": "code",
   "execution_count": null,
   "metadata": {},
   "outputs": [],
   "source": [
    "def num_in_interval(num, arr):\n",
    "    res=0\n",
    "    for interval in arr:\n",
    "        if interval[0]<=num<=interval[1]:\n",
    "            res+=1\n",
    "    return res"
   ]
  },
  {
   "cell_type": "markdown",
   "metadata": {},
   "source": []
  }
 ],
 "metadata": {
  "kernelspec": {
   "display_name": "Python 3",
   "language": "python",
   "name": "python3"
  },
  "language_info": {
   "codemirror_mode": {
    "name": "ipython",
    "version": 3
   },
   "file_extension": ".py",
   "mimetype": "text/x-python",
   "name": "python",
   "nbconvert_exporter": "python",
   "pygments_lexer": "ipython3",
   "version": "3.8.5"
  }
 },
 "nbformat": 4,
 "nbformat_minor": 4
}
