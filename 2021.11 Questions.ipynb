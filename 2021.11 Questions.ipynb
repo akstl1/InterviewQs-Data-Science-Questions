{
 "cells": [
  {
   "cell_type": "markdown",
   "metadata": {},
   "source": [
    "# 11/2021 Questions\n",
    "\n",
    "This notebook will track progress on practice questions that are sent by the InterviewQs website in November 2021. "
   ]
  },
  {
   "cell_type": "markdown",
   "metadata": {},
   "source": [
    "<hr style=\"border:1px solid black\"> </hr>\n",
    "\n",
    "## 11/29 Question TO ANSWER\n",
    "\n",
    "An insurance company classifies its customers into 3 categories: below average, average, and above average. No one moves more than one state at a time.\n",
    "\n",
    "\n",
    "    \n",
    "For example, a customer cannot move from below average to above average or from above average to below average in a given period. After a given period, we notice that:\n",
    "    \n",
    "\n",
    "\n",
    "    \n",
    "40% of those in the below average category become average\n",
    "\n",
    "    \n",
    "30% of those in the average category become above average\n",
    "\n",
    "    \n",
    "10% of those in the average category become below average\n",
    "\n",
    "    \n",
    "20% of those in the above average category are downgraded to average\n",
    "\n",
    "    \n",
    "\n",
    "    \n",
    "\n",
    "    \n",
    "Given the above:\n",
    "    \n",
    "\n",
    "\n",
    "    \n",
    "Can you write the transition matrix for the model?\n",
    "\n",
    "    \n",
    "What is the limiting fraction of drivers in each of these categories? (e.g. find the steady state)\n",
    "\n",
    "    \n",
    "\n",
    "    \n",
    "    \n",
    "\n",
    "    \n",
    "Hint: It might be helpful to start with building a state transition diagram to depict a Markov chain for the different states a customer can move to given their current state.\n",
    "\n"
   ]
  },
  {
   "cell_type": "markdown",
   "metadata": {},
   "source": [
    "<hr style=\"border:1px solid black\"> </hr>\n",
    "\n",
    "## 11/26 Question\n",
    "\n",
    "Suppose an individual is taxed 30% if earnings for a given week are >= 2,000. If earnings land < 2,000 for the week, the individual is taxed at a lower rate of 15%.\n",
    "\n",
    "Write a function using Python to calculate both the pre-tax and post-tax earnings for a given individual, with the ability to feed in the hourly wage and the weekly hours as inputs. \n",
    "\n",
    "For example, if an individual earns 55/hour and works for 40 hours, the function should return: \n",
    "    \n",
    "Pre-tax earnings were 55*40 = 2,200 for the week. \n",
    "\n",
    "Post-tax earnings were 2,200*.7 (since we fall in higher tax bracket here) = 1,540 for the week\n",
    "\n",
    "### Approach\n",
    "\n",
    "Based on the prompt, I will write a function to perform the desired calculation. The function will:\n",
    "- take in hourly wage and hours worked that week\n",
    "- determine the pre-tax earnings by multiplying the above two values together\n",
    "- determine the tax rate based on the threshold of $2000 noted in the prompt\n",
    "- determine post-tax earnings by multiplying pre-tax values by tax rate percentage\n",
    "- print the values for pre and post tax earnings as shown in the prompt"
   ]
  },
  {
   "cell_type": "code",
   "execution_count": 1,
   "metadata": {},
   "outputs": [],
   "source": [
    "#function to perform above steps\n",
    "def earnings_calculator(wage, hours):\n",
    "    pre_tax_earnings =wage*hours\n",
    "    if pre_tax_earnings>=2000:\n",
    "        taxed_pct=0.7\n",
    "    else:\n",
    "        taxed_pct=0.85\n",
    "    post_tax_earnings = pre_tax_earnings*taxed_pct\n",
    "    print(f'Pre-tax earnings were {wage}*{hours} = ${pre_tax_earnings} for the week.')\n",
    "    print(f'Post-tax earnings were ${pre_tax_earnings}*{taxed_pct} = ${post_tax_earnings} for the week.')"
   ]
  },
  {
   "cell_type": "code",
   "execution_count": 2,
   "metadata": {
    "scrolled": false
   },
   "outputs": [
    {
     "name": "stdout",
     "output_type": "stream",
     "text": [
      "Pre-tax earnings were 55*40 = $2200 for the week.\n",
      "Post-tax earnings were $2200*0.7 = $1540.0 for the week.\n"
     ]
    }
   ],
   "source": [
    "#example call of function\n",
    "earnings_calculator(55,40)"
   ]
  },
  {
   "cell_type": "markdown",
   "metadata": {},
   "source": [
    "<hr style=\"border:1px solid black\"> </hr>\n",
    "\n",
    "## 11/24 Question\n",
    "\n",
    "Suppose you’re an analyst for an e-commerce store. You’re trying to identify the top selling products in Q4 2017 by region, and you have 2 tables that you can query: \n",
    "\n",
    "\n",
    "    \n",
    "Table: all_products\n",
    "    \n",
    "|Column Name|\tData Type|\tDescription|\n",
    "|---|---|---|\n",
    "|product_id\t|integer\t|id of the product|\n",
    "|product_name\t|string\t|name of the product |\n",
    "|sku\t|integer\t|universal stock keeping unit number|\n",
    "|distributor_id\t|integer\t|id for distributor|\n",
    "   \n",
    "Table: orders\n",
    "\n",
    "|Column Name|\tData Type|\tDescription|\n",
    "|---|---|---|\n",
    "|date\t|string|\tformat is \"YYYY-MM-DD\"|\n",
    "|user_id|\tinteger\t|id of purchaser|\n",
    "|order_id\t|integer|\tid of order number|\n",
    "|product_id\t|integer\t|id of product|\n",
    "|no_units\t|integer\t|number of units sold in the order|\n",
    "|price\t|integer\t|price per item|\n",
    "|shipping_id|\tinteger\t|id of shipment|\n",
    "|region\t|string|\tregion being shipped to|\n",
    "\n",
    "    \n",
    "\n",
    "    \n",
    "Using the tables above, write a SQL query to find the top 5 selling products (in terms of total units sold) by region in Q4 of 2017. Include both the distributor id as well as the name of the product in your results.\n",
    "\n",
    "### Approach\n",
    "\n",
    "To do the above query I will create a subquery, within which I will:\n",
    "- join the above tables on product_id\n",
    "- group by region and product_name so these appear as requested\n",
    "- filter by Q4 2017 dates\n",
    "- order by region and row ascending no so that data is ordered and the higher volume products get the lower numbers\n",
    "- select region, product_name, sum of no_units, row number based on region and sum of units\n",
    "\n",
    "The above will aggregate the data as requested, and provide a row # that we can filter on. Outside of this subquery, I will then:\n",
    "- select the relevant rows\n",
    "- filter by row <=5 to get the top 5 products only for each region\n",
    "- order by region and rows DESC so the top rows get shown first"
   ]
  },
  {
   "cell_type": "markdown",
   "metadata": {},
   "source": [
    "select region, product_name, total_units from ( <br>\n",
    "\n",
    "select region, product_name, sum(no_units) as total_units, ROW_NUMBER() OVER(PARTITION BY region ORDER BY sum(no_units) ASC) \n",
    "  AS rows <br>\n",
    "FROM orders a join all_products b <br>\n",
    "ON a.product_id=b.product_id <br>\n",
    "GROUP BY region, product_name <br>\n",
    "HAVING date>= \"2017-10-01\" AND date <=\"2017-12-31\" <br>\n",
    "ORDER BY region, rows asc) <br>\n",
    "\n",
    "where rows<=5 <br>\n",
    "ORDER BY region, rows DESC <br>"
   ]
  },
  {
   "cell_type": "code",
   "execution_count": null,
   "metadata": {},
   "outputs": [],
   "source": []
  },
  {
   "cell_type": "markdown",
   "metadata": {},
   "source": [
    "<hr style=\"border:1px solid black\"> </hr>\n",
    "\n",
    "## 11/22 Question TO ANSWER\n",
    "\n",
    "uppose you're given the following information about a population and its wealth distribution:\n",
    "\n",
    "\n",
    "    \n",
    "\n",
    "    \n",
    "Population size: 2500\n",
    "\n",
    "    \n",
    "Mean income (in USD, thousands): 50\n",
    "\n",
    "    \n",
    "Standard deviation of income (in USD, thousands): 12.5\n",
    "\n",
    "    \n",
    "The population wealth is initially normally distributed\n",
    "\n",
    "    \n",
    "\n",
    "    \n",
    "Additionally, you're told that economic transactions occur randomly between two individuals in the population. In a transaction, two parties come together and there is an exchange of wealth. For the purposes of this question, the transactions can be modeled in the following way:\n",
    "\n",
    "\n",
    "    \n",
    "\n",
    "    \n",
    "Two individuals come together at random\n",
    "\n",
    "    \n",
    "When they interact, their wealth is put into a pot, and is then split randomly and uniformly between the two parties\n",
    "\n",
    "    \n",
    "\n",
    "    \n",
    "Given this information, write a simulation to show how the wealth of the population will change over time. You can simulate 50 time steps (or transactions per individual)."
   ]
  },
  {
   "cell_type": "markdown",
   "metadata": {},
   "source": [
    "<hr style=\"border:1px solid black\"> </hr>\n",
    "\n",
    "## 11/19 Question\n",
    "\n",
    "Suppose you're trying to optimize a mailing campaign where physical mail is sent to potential customers. There are two options to send advertising mail, either first class or third class. First-class costs 0.50 per parcel with a delivery rate of 99% and third-class costs 0.35 per parcel with a delivery rate of 65%. Third-class mail also receives a volume discount, if a batch of parcels is greater than 500, for first 500 are 0.35 and anything additional costs 0.32 per parcel.\n",
    "\n",
    "Questions:        \n",
    "\n",
    "Which option is the best for the company?\n",
    "\n",
    "Assume our goal is to reach as many people with a cap of $1000, which option would be the best?\n",
    "\n",
    "Assume our goal is to reach 100 people, what option is best?"
   ]
  },
  {
   "cell_type": "markdown",
   "metadata": {},
   "source": [
    "## Part 1\n",
    "\n",
    "The best option for the company will depend on how many people it would like to reach. We need to find the breakeven points, where it would cost the same to reach x people with first class envelopes and third class envelopes. \n",
    "\n",
    "There will be two major breakeven points:\n",
    "- initially, third class mail will be cheaper because the cost is less and the delivery rate factor isn't large enough to outweigh the cost difference between the two types of mail\n",
    "- as the desired people to reach increases, the delivery rate will have larger impact. The increased number of envelopes needed to deliver to x people will lead to higher cost for third class mail, and thus first class mail will be cheaper\n",
    "- finally, after 500 envelopes the cost for third class mail will decrease. this will eventually lead to lower cost for third class envelopes after the final breakeven point\n",
    "\n",
    "To find the breakeven points, I will write a function to calculate the cost to send an envelope to x people via both methods. The function will:\n",
    "- initiate a 'people to reach' variable at 1. This will be increased until we reach the desired amount of breakeven points\n",
    "- calculate the cost of reaching that many people via first class and third class mail\n",
    "- When first and third class costs are even, append the corresponding value of 'people to reach' to an array for tracking purposes. These are the breakeven points in terms of desired people to reach.\n",
    "- When we have the desired amount of breakeven points, the loop will end\n",
    "- return the array so we know where the breakeven points are.\n",
    "\n",
    "### Result\n",
    "\n",
    "As shown below:\n",
    "\n",
    "__For reaching up to 13 people, it is more cost effective to use third-class mail. For reaching 14-1170 people, it is more cost effective to use first-class mail. For reaching over 1170 people, using third class mail will be more cost effective.__"
   ]
  },
  {
   "cell_type": "code",
   "execution_count": 61,
   "metadata": {},
   "outputs": [],
   "source": [
    "import math\n",
    "def mail_breakeven_points():\n",
    "    breakeven_points = []\n",
    "    people_to_reach=1\n",
    "    while len(breakeven_points)<3:\n",
    "        first_class_envelopes_to_send = math.ceil(people_to_reach/0.99)\n",
    "        third_class_envelopes_to_send = math.ceil(people_to_reach/0.65)\n",
    "        first_class_cost = first_class_envelopes_to_send*0.5\n",
    "        if third_class_envelopes_to_send<=500:\n",
    "            third_class_cost = third_class_envelopes_to_send*0.35\n",
    "        else:\n",
    "            third_class_cost = 500*0.35 + (third_class_envelopes_to_send-500)*0.32\n",
    "        if third_class_cost==first_class_cost:\n",
    "            breakeven_points.append(people_to_reach)\n",
    "        people_to_reach+=1\n",
    "    return breakeven_points"
   ]
  },
  {
   "cell_type": "code",
   "execution_count": 62,
   "metadata": {
    "scrolled": false
   },
   "outputs": [
    {
     "data": {
      "text/plain": [
       "[6, 13, 1170]"
      ]
     },
     "execution_count": 62,
     "metadata": {},
     "output_type": "execute_result"
    }
   ],
   "source": [
    "mail_breakeven_points()"
   ]
  },
  {
   "cell_type": "markdown",
   "metadata": {},
   "source": [
    "As shown in the above, there are three breakeven points: at 6,13, and 1170 people to reach. Upon further analysis, the first breakeven point at 6 is a slight misnomer. Both before and after this point, third-class mail is cheaper to use. The math just worked out that for 6, the cost was the same for both mail types. Since third class mail is cheaper or equal to cost for first class mail up to 13 envelopes, for all intents and purposes the following is true:\n",
    "\n",
    "__For reaching up to 13 people, it is more cost effective to use third-class mail. For reaching 14-1170 people, it is more cost effective to use first-class mail. For reaching over 1170 people, using third class mail will be more cost effective.__"
   ]
  },
  {
   "cell_type": "markdown",
   "metadata": {},
   "source": [
    "## Part 2\n",
    "\n",
    "With a cap of \\$1000, we can find the number of people that can be reached with first and third class mail. We do this by setting the cost cap equal to (delivery cost)*x, where x is the number of people reached. We would then multiply x by the delivery rate to find the total people reached:\n",
    "\n",
    "For first class, this would mean: \\$1000 = 0.5x -> x = 2000 envelopes sent. With a delivery rate of 99%, 2000 x 0.99 = 1980 people reached.\n",
    "\n",
    "For third class, we break this into two segments since there are different cost for sending more than 500 envelopes. To send 500 envelopes would cost: 500 x 0.35 per envelope = 175. So we would send 500 envelopes for 175, leaving 825 remaining.\n",
    "\n",
    "With the 825 we follow the same math as for first class mail: 825 = 0.32x -> x = 2578 envelopes sent.\n",
    "\n",
    "Adding the 2587 and 500, we get 3078 envelopes sent. With a delivery rate of 0.65 we get: 3078 x 0.65 = 2000 people reached.\n",
    "\n",
    "__In this case, 2000 people reached with third class is greater than 1980 reached with first class mail. So with \\$1000 it would be better to use third class mail.__"
   ]
  },
  {
   "cell_type": "markdown",
   "metadata": {},
   "source": [
    "### Part 3\n",
    "\n",
    "Using the logic from part 1, we know that 100 is in the range for which first class mail is cheaper. To formally calculate this out we can explain as follows:\n",
    "\n",
    "If the goal is to reach 100 people, we need to find out how many envelopes it would take to reach those people given our delivery rates. We do this by dividing the desired number of poeple to reach by the delivery rate.\n",
    "\n",
    "For first class: 100/0.99 = 101.01, rounded up to 102 since we can't send 0.01 envelopes.\n",
    "\n",
    "For third class: 100/0.65 = 153.86, rounded up to 154\n",
    "\n",
    "The cost for first class mail would be the number of envelopes multiplied by cost per envelope: 102 x $0.5/envelope = $51.\n",
    "\n",
    "The cost for third class mail would be the number of envelopes multiplied by cost per envelope: 154 x $0.35/envelope = $53.9.\n",
    "\n",
    "__As shown above, to reach 100 people it would be more cost effective to use first class mail.__"
   ]
  },
  {
   "cell_type": "markdown",
   "metadata": {},
   "source": [
    "<hr style=\"border:1px solid black\"> </hr>\n",
    "\n",
    "## 11/17 Question\n",
    "\n",
    "Suppose you're given a matrix of 1s and 0s that represents a map of rivers. You can assume that the grid cells in your map are only connected horizontally and vertically (e.g. no diagonal connections). You can assume that 1 represents water (your river) and 0 represents land/your river bank. Each cell has a length of 1 and is square in your map. Given this, write code to determine the perimeter of your river.\n",
    "\n",
    "\n",
    "    \n",
    "Examples:\n",
    "\n",
    "\n",
    "    \n",
    "    \n",
    "Input: [[1,0]] \n",
    "    \n",
    "\n",
    "Output: 4\n",
    "    \n",
    "\n",
    "\n",
    "    \n",
    "\n",
    "Input: [[1,0,1],\n",
    "    \n",
    "\n",
    "        [1,1,1]] \n",
    "    \n",
    "\n",
    "Output: 12\n",
    "\n",
    "### Approach\n",
    "\n",
    "For this problem I will initiate a \"perimeter\" variable to count the total perimeter of the river, and then run a for loop. This for loop will go through each cell in the grid and do the following:\n",
    "- if the cell value is not a river, do nothing. Otherwise do the below\n",
    "- initially add 4 to the perimeter variable, since that is the max number of sides around a river that could be land\n",
    "- search each border around the cell and check if that border is also a river, decrease the perimeter value by 1\n",
    "- return the final value of perimeter as the result"
   ]
  },
  {
   "cell_type": "code",
   "execution_count": null,
   "metadata": {},
   "outputs": [],
   "source": [
    "def islandPerimeter(self, grid):\n",
    "        perimeter=0\n",
    "        for i in range(len(grid)):\n",
    "            for j in range(len(grid[0])):\n",
    "                if grid[i][j]:\n",
    "                    perimeter+=4\n",
    "                    if 0<=i<=len(grid)-1 and 0<=j-1<=len(grid[0])-1:\n",
    "                        perimeter-=grid[i][j-1]\n",
    "                    if 0<=i<=len(grid)-1 and 0<=j+1<=len(grid[0])-1  :\n",
    "                        perimeter-=grid[i][j+1]\n",
    "                    if 0<=i-1<=len(grid)-1 and 0<=j<=len(grid[0])-1  :\n",
    "                        perimeter-=grid[i-1][j]\n",
    "                    if 0<=i+1<=len(grid)-1 and 0<=j<=len(grid[0])-1  : \n",
    "                        perimeter-=grid[i+1][j]\n",
    "        return perimeter"
   ]
  },
  {
   "cell_type": "markdown",
   "metadata": {},
   "source": [
    "<hr style=\"border:1px solid black\"> </hr>\n",
    "\n",
    "## 11/15 Question\n",
    "\n",
    "You are given the below tables, showing student attendance information as well as the grade level (grades 7-8) that each student is in. The columns are labeled in such a way that you should be able to interpret what each field is showing.\n",
    "\n",
    "student_attendance_log\n",
    "\n",
    "|student_id |attendance_status|\n",
    "|---|---|\n",
    "|57510 |Present|\n",
    "|57509\t|Present|\n",
    "|57508\t|Tardy|\n",
    "|57507\t|Absent|\n",
    "|57506\t|Present|\n",
    "|57505\t|Present|\n",
    "|57504\t|Present|\n",
    "|57503\t|Tardy|\n",
    "|57501\t|Absent|\n",
    "|57500\t|Present|\n",
    "|57499\t|Tardy|\n",
    "|57498\t|Absent|\n",
    "|57497\t|Present|\n",
    "    \n",
    "    \n",
    "student_info\n",
    "\n",
    "|student_id|grade_level|\n",
    "|---|---|\n",
    "|57510\t|7|\n",
    "|57509\t|7|\n",
    "|57508\t|8|\n",
    "|57507\t|8|\n",
    "|57506\t|7|\n",
    "|57505\t|7|\n",
    "|57504\t|8|\n",
    "|57503\t|8|\n",
    "|57501\t|8|\n",
    "|57500\t|8|\n",
    "|57499\t|7|\n",
    "|57498\t|7|\n",
    "|57497\t|8|\n",
    "    \n",
    "    \n",
    "    \n",
    "\n",
    "    \n",
    "Using the tables above, write a SQL query to return the % of students by grade that are either tardy or absent in your attendance log. As shown in the tables, each student id is unique and exists across both tables.\n",
    "\n",
    "\n",
    "    \n",
    "Your output should return the following columns:\n",
    "\n",
    "\n",
    "    \n",
    "|grade_level |\tpercent_absent_tardy\t|total_num_students|\n",
    "|---|---|---|\n",
    "|7\t|0.XX\t|N|\n",
    "|8\t|0.YY\t|N|\n",
    "\n",
    "### Approach\n",
    "I will:\n",
    "- join the two provided tables on student_id\n",
    "- group by grade level\n",
    "- display the grade level values\n",
    "- create and show a column that sums the total amount of tardy and absent student counts and divide by total students in the grade to get percent_absent_tardy\n",
    "- create and show the count the total number of students in the grade to get total_num_students"
   ]
  },
  {
   "cell_type": "markdown",
   "metadata": {},
   "source": [
    "select grade_level,round(sum(case when attendance_status in ('Tardy', 'Absent') Then 1 else 0 end)/(count(grade_level)*1.00),2) percent_absent_tardy,  count(grade_level) as total_num_students <br>\n",
    "from student_attendace_log a join student_info b <br>\n",
    "ON a.student_id=b.student_id <br>\n",
    "GROUP BY grade_level"
   ]
  },
  {
   "cell_type": "markdown",
   "metadata": {},
   "source": [
    "<hr style=\"border:1px solid black\"> </hr>\n",
    "\n",
    "## 11/12 Question\n",
    "\n",
    "You are given the following dataset, containing information on baby names from the U.S. Social Security Administration.\n",
    "\n",
    "Using the dataset, write code to find the following:\n",
    "    \n",
    "Number of unique names across the dataset, split by both # of unique male/female names\n",
    "\n",
    "Top 10 most popular male and female names, along with their associated counts\n",
    "\n",
    "The top 10 most popular names from 2010+, with an associated plot to show the relative growth between names\n",
    "\n",
    "### Approach\n",
    "I will break the above into the three tasks. \n",
    "\n",
    "To tackle task 1, finding the # of unique baby names I will:\n",
    "- create a dataframe with only a particular gender's name values\n",
    "- count the number of unique values in the name column\n",
    "\n",
    "For task 2, I will:\n",
    "- create a dataframe with only a particular gender's name values\n",
    "- group that df by name\n",
    "- perform an aggregate on the df, summing up the \"count\" column\n",
    "- sort the resultant df by count, so top 10 results are at the top\n",
    "- display the top 10 names and corresponding counts\n",
    "\n",
    "For task 3, I will:\n",
    "- re-calculate the top 10 names as done in step 2, this time with a date filter going >=2010 as specified\n",
    "- create a separate df that only contains the top names and isn't grouped by year, so that yearly counts can be plotted\n",
    "- plot the year and count values in the resultant df, for each of the top 10 names\n",
    "\n",
    "For ease of use, I will combine the above steps into one function that can be used to find the desired results based on dataframe and gender inputs."
   ]
  },
  {
   "cell_type": "code",
   "execution_count": 14,
   "metadata": {
    "scrolled": true
   },
   "outputs": [
    {
     "data": {
      "text/html": [
       "<div>\n",
       "<style scoped>\n",
       "    .dataframe tbody tr th:only-of-type {\n",
       "        vertical-align: middle;\n",
       "    }\n",
       "\n",
       "    .dataframe tbody tr th {\n",
       "        vertical-align: top;\n",
       "    }\n",
       "\n",
       "    .dataframe thead th {\n",
       "        text-align: right;\n",
       "    }\n",
       "</style>\n",
       "<table border=\"1\" class=\"dataframe\">\n",
       "  <thead>\n",
       "    <tr style=\"text-align: right;\">\n",
       "      <th></th>\n",
       "      <th>year</th>\n",
       "      <th>name</th>\n",
       "      <th>gender</th>\n",
       "      <th>count</th>\n",
       "    </tr>\n",
       "  </thead>\n",
       "  <tbody>\n",
       "    <tr>\n",
       "      <th>0</th>\n",
       "      <td>1880</td>\n",
       "      <td>Mary</td>\n",
       "      <td>F</td>\n",
       "      <td>7065</td>\n",
       "    </tr>\n",
       "    <tr>\n",
       "      <th>1</th>\n",
       "      <td>1880</td>\n",
       "      <td>Anna</td>\n",
       "      <td>F</td>\n",
       "      <td>2604</td>\n",
       "    </tr>\n",
       "    <tr>\n",
       "      <th>2</th>\n",
       "      <td>1880</td>\n",
       "      <td>Emma</td>\n",
       "      <td>F</td>\n",
       "      <td>2003</td>\n",
       "    </tr>\n",
       "    <tr>\n",
       "      <th>3</th>\n",
       "      <td>1880</td>\n",
       "      <td>Elizabeth</td>\n",
       "      <td>F</td>\n",
       "      <td>1939</td>\n",
       "    </tr>\n",
       "    <tr>\n",
       "      <th>4</th>\n",
       "      <td>1880</td>\n",
       "      <td>Minnie</td>\n",
       "      <td>F</td>\n",
       "      <td>1746</td>\n",
       "    </tr>\n",
       "  </tbody>\n",
       "</table>\n",
       "</div>"
      ],
      "text/plain": [
       "   year       name gender  count\n",
       "0  1880       Mary      F   7065\n",
       "1  1880       Anna      F   2604\n",
       "2  1880       Emma      F   2003\n",
       "3  1880  Elizabeth      F   1939\n",
       "4  1880     Minnie      F   1746"
      ]
     },
     "execution_count": 14,
     "metadata": {},
     "output_type": "execute_result"
    }
   ],
   "source": [
    "import matplotlib.pyplot as plt\n",
    "import numpy as np\n",
    "import pandas as pd\n",
    "import seaborn as sns\n",
    "    \n",
    "baby_names = pd.read_csv('https://raw.githubusercontent.com/erood/interviewqs.com_code_snippets/master/Datasets/ddi_baby_names.csv')\n",
    "baby_names.head()"
   ]
  },
  {
   "cell_type": "code",
   "execution_count": 125,
   "metadata": {},
   "outputs": [],
   "source": [
    "def baby_name_stats(baby_names,gender):\n",
    "    ##################################part 1\n",
    "    if gender==\"M\":\n",
    "        full_gender=\"male\"\n",
    "    else:\n",
    "        full_gender=\"female\"\n",
    "    unique_names=baby_names[baby_names[\"gender\"]==gender][\"name\"].nunique() #find unique number of name\n",
    "    print(f'The number of unique {full_gender} names in this dataset is {unique_names}!\\n') #print unique number of names\n",
    "    \n",
    "    ##################################part 2\n",
    "    #create df that has the specified gender, group by name, aggregate the count col, sort by top count vals, and only display top 10 results\n",
    "    top_ten_male_names_df=baby_names[baby_names[\"gender\"]==gender].groupby([\"name\"]).agg(\"sum\").sort_values(\"count\", ascending=False).reset_index()[[\"name\",\"count\"]][0:10]\n",
    "    \n",
    "    #create list of top names from df\n",
    "    top_ten_male_names=top_ten_male_names_df[\"name\"]\n",
    "    \n",
    "    #print top names and associated counts\n",
    "    print(f'The top 10 {full_gender} names in this dataset is\\n{top_ten_male_names_df}!\\n') \n",
    "    \n",
    "    ##################################part 3\n",
    "    #create df that has the specified gender and year limits, group by name, aggregate the count col, sort by top count vals, and only display top 10 results\n",
    "    top_ten_male_names_2010_df=baby_names[(baby_names[\"gender\"]==gender) & (baby_names[\"year\"]>=2010)].groupby([\"name\"]).agg(\"sum\").sort_values(\"count\", ascending=False).reset_index()[[\"name\",\"count\"]][0:10]\n",
    "    \n",
    "    #create list of top names and counts from df\n",
    "    top_ten_male_names_2010_list = top_ten_male_names_2010_df[[\"name\", \"count\"]]\n",
    "    \n",
    "    #create new df with the specified gender, birth years, and names\n",
    "    male_grouped_by_year = baby_names[(baby_names[\"name\"].isin(top_ten_male_names_2010_list[\"name\"])) & (baby_names[\"gender\"]==gender) & (baby_names[\"year\"]>=2010)]\n",
    "    \n",
    "    #print list of top names post 2010\n",
    "    print(f'The top 10 {full_gender} names after 2010 in this dataset are:\\n{top_ten_male_names_2010_list}\\n')\n",
    "    \n",
    "    ##################################plot\n",
    "    print(\"The trend of the above post-2010 baby names by year is:\")\n",
    "    sns.lineplot(data=male_grouped_by_year, x=\"year\", y=\"count\", hue=\"name\")\n",
    "    plt.legend(bbox_to_anchor=(1.02, 1), loc='upper left', borderaxespad=0)\n",
    "    "
   ]
  },
  {
   "cell_type": "code",
   "execution_count": 126,
   "metadata": {
    "scrolled": true
   },
   "outputs": [
    {
     "name": "stdout",
     "output_type": "stream",
     "text": [
      "The number of unique male names in this dataset is 41475!\n",
      "\n",
      "The top 10 male names in this dataset is\n",
      "      name    count\n",
      "0    James  5164280\n",
      "1     John  5124817\n",
      "2   Robert  4820129\n",
      "3  Michael  4362731\n",
      "4  William  4117369\n",
      "5    David  3621322\n",
      "6   Joseph  2613304\n",
      "7  Richard  2565301\n",
      "8  Charles  2392779\n",
      "9   Thomas  2311849!\n",
      "\n",
      "The top 10 male names after 2010 in this dataset are:\n",
      "        name   count\n",
      "0       Noah  163657\n",
      "1       Liam  152994\n",
      "2      Jacob  152020\n",
      "3      Mason  146079\n",
      "4    William  145893\n",
      "5      Ethan  137512\n",
      "6    Michael  134043\n",
      "7  Alexander  130477\n",
      "8      James  126060\n",
      "9     Elijah  123151\n",
      "\n",
      "The trend of the above post-2010 baby names by year is:\n"
     ]
    },
    {
     "data": {
      "image/png": "[encoded data removed]",
      "text/plain": [
       "<Figure size 432x288 with 1 Axes>"
      ]
     },
     "metadata": {
      "needs_background": "light"
     },
     "output_type": "display_data"
    }
   ],
   "source": [
    "baby_name_stats(baby_names,\"M\")"
   ]
  },
  {
   "cell_type": "code",
   "execution_count": 124,
   "metadata": {
    "scrolled": false
   },
   "outputs": [
    {
     "name": "stdout",
     "output_type": "stream",
     "text": [
      "The number of unique female names in this dataset is 67698!\n",
      "\n",
      "The top 10 female names in this dataset is\n",
      "        name    count\n",
      "0       Mary  4125675\n",
      "1  Elizabeth  1638349\n",
      "2   Patricia  1572016\n",
      "3   Jennifer  1467207\n",
      "4      Linda  1452668\n",
      "5    Barbara  1434397\n",
      "6   Margaret  1248985\n",
      "7      Susan  1121703\n",
      "8    Dorothy  1107635\n",
      "9      Sarah  1077746!\n",
      "\n",
      "The top 10 female names after 2010 in this dataset are:\n",
      "        name   count\n",
      "0       Emma  177410\n",
      "1     Sophia  166986\n",
      "2     Olivia  165581\n",
      "3   Isabella  156709\n",
      "4        Ava  140979\n",
      "5        Mia  116301\n",
      "6    Abigail  109253\n",
      "7      Emily  109149\n",
      "8    Madison   91914\n",
      "9  Charlotte   89043\n",
      "\n",
      "The trend of the above post-2010 baby names by year is:\n"
     ]
    },
    {
     "data": {
      "image/png": "[encoded data removed]",
      "text/plain": [
       "<Figure size 432x288 with 1 Axes>"
      ]
     },
     "metadata": {
      "needs_background": "light"
     },
     "output_type": "display_data"
    }
   ],
   "source": [
    "baby_name_stats(baby_names,\"F\")"
   ]
  },
  {
   "cell_type": "markdown",
   "metadata": {},
   "source": [
    "<hr style=\"border:1px solid black\"> </hr>\n",
    "\n",
    "## 11/10 Question - TO ANSWER\n",
    "\n",
    "Given the data table below, determine if there is a relationship between fitness level and smoking habits:\n",
    "\n",
    "|Low fitness level |\tMedium-low fitness level |\tMedium-high fitness level |\tHigh fitness level |\n",
    "|---|---|---|---|\n",
    "|Never smoked|\t113\t|113\t|110\t|159|\n",
    "|Former smokers|\t119\t|135|\t172\t|190|\n",
    "|1 to 9 cigarettes daily|\t77\t|91|\t86|\t65|\n",
    "|10+ cigarettes daily|\t181|\t152|\t124|\t73|\n",
    "\n",
    "You don't have to fully solve for the number here (that would be pretty time-intensive for an interview setting), but lay out the steps you would take to solve such a problem. "
   ]
  },
  {
   "cell_type": "code",
   "execution_count": null,
   "metadata": {},
   "outputs": [],
   "source": []
  },
  {
   "cell_type": "code",
   "execution_count": null,
   "metadata": {},
   "outputs": [],
   "source": []
  },
  {
   "cell_type": "code",
   "execution_count": null,
   "metadata": {},
   "outputs": [],
   "source": []
  },
  {
   "cell_type": "markdown",
   "metadata": {},
   "source": [
    "<hr style=\"border:1px solid black\"> </hr>\n",
    "\n",
    "## 11/08 Question\n",
    "\n",
    "Given an array and an integer A, find the maximum for each contiguous subarray of size A.\n",
    "\n",
    "Input: array = [1, 2, 3, 1, 4, 5, 2, 3, 6], A = 3\n",
    "Output: 3 3 4 5 5 5 6\n",
    "    \n",
    "Below is a more detailed walkthrough of what you should be trying to code, using the example above:\n",
    "subarray 1 = [1, 2, 3, 1, 4, 5, 2, 3, 6]\n",
    "maximum of subarray 1 = 3\n",
    "\n",
    "subarray 2 = [1, 2, 3, 1, 4, 5, 2, 3, 6] \n",
    "maximum of subarray 2 = 3\n",
    "\n",
    "subarray 3 = [1, 2, 3, 1, 4, 5, 2, 3, 6] \n",
    "maximum of subarray 3 = 4\n",
    "\n",
    "Etc.\n",
    "\n",
    "### Approach\n",
    "\n",
    "To solve this problem I will write a function that will:\n",
    "- initiate an array to store results\n",
    "- define initial start and end points for the subarray\n",
    "- create a for loop for to run through each subarray\n",
    "- in the for loop, I will find the max value in the sub array, append that value to the results array, and increment the start and end vars\n",
    "- return the final result array"
   ]
  },
  {
   "cell_type": "code",
   "execution_count": 13,
   "metadata": {},
   "outputs": [],
   "source": [
    "def max_subarrays(array, A):\n",
    "    res=[]\n",
    "    start,end = 0, A\n",
    "    for i in range(len(array)-A+1):\n",
    "        res.append(max(array[start:end]))\n",
    "        start,end=start+1, end+1\n",
    "    return res\n",
    "    "
   ]
  },
  {
   "cell_type": "code",
   "execution_count": 12,
   "metadata": {},
   "outputs": [
    {
     "name": "stdout",
     "output_type": "stream",
     "text": [
      "[1, 2, 3]\n",
      "[2, 3, 1]\n",
      "[3, 1, 4]\n",
      "[1, 4, 5]\n",
      "[4, 5, 2]\n",
      "[5, 2, 3]\n",
      "[2, 3, 6]\n"
     ]
    },
    {
     "data": {
      "text/plain": [
       "[3, 3, 4, 5, 5, 5, 6]"
      ]
     },
     "execution_count": 12,
     "metadata": {},
     "output_type": "execute_result"
    }
   ],
   "source": [
    "max_subarrays([1, 2, 3, 1, 4, 5, 2, 3, 6],3)"
   ]
  },
  {
   "cell_type": "markdown",
   "metadata": {},
   "source": [
    "<hr style=\"border:1px solid black\"> </hr>\n",
    "\n",
    "## 11/05 question - TO ANSWER\n",
    "\n",
    "Suppose you're working for Reddit as an analyst. Reddit is trying to optimize its server allocation per subreddit, and you've been tasked with figuring out how much comment activity happens once a post is published.\n",
    "    \n",
    "\n",
    "\n",
    "    \n",
    "Use your intuition to select a timeframe to query the data, as well as how you would want to present this information to the partnering team. The solution will be a SQL query with assumptions that you would need to state if this were asked in an interview. You have the following tables:\n",
    "\n",
    "\n",
    "    \n",
    "Table: posts\n",
    "\n",
    "\n",
    "    \n",
    "|Column Name|\tData Type|\tDescription|\n",
    "|---|---|---|\n",
    "|id|\tinteger|\tid of the post|\n",
    "|publisher_id|\tinteger\t|id the user posting|\n",
    "|score|\tinteger|\tscore of the post|\n",
    "|time|\tinteger|\tpost publish time in unix time|\n",
    "|title|\tstring\t|title of the post|\n",
    "|deleted|\tboolean|\tis the post deleted?|\n",
    "|dead|\tboolean|\tis the post active?|\n",
    "|subreddit_id|\tinteger|\tid of the subreddit|\n",
    "\n",
    "Table: comments\n",
    "\n",
    "|Column Name|\tData Type|\tDescription|\n",
    "|---|---|---|\n",
    "|id|\tinteger|\tid of the comment|\n",
    "|author_id|\tinteger|\tid of the commenter|\n",
    "|post_id|\tinteger|\tid of the post the comment is nested under|\n",
    "|parent_comment|\tinteger|\tid of parent comment that comment is nested under|\n",
    "|deleted|\tinteger|\tis comment deleted?|\n",
    "\n",
    "    \n",
    "\n",
    "    \n",
    " Given the above, write a SQL query to highlight comment activity by subreddit. This problem is intended to test how you can think through vague/open-ended questions."
   ]
  },
  {
   "cell_type": "code",
   "execution_count": null,
   "metadata": {},
   "outputs": [],
   "source": []
  }
 ],
 "metadata": {
  "kernelspec": {
   "display_name": "Python 3",
   "language": "python",
   "name": "python3"
  },
  "language_info": {
   "codemirror_mode": {
    "name": "ipython",
    "version": 3
   },
   "file_extension": ".py",
   "mimetype": "text/x-python",
   "name": "python",
   "nbconvert_exporter": "python",
   "pygments_lexer": "ipython3",
   "version": "3.8.5"
  }
 },
 "nbformat": 4,
 "nbformat_minor": 4
}
