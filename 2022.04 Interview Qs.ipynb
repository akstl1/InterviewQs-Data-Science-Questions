{
 "cells": [
  {
   "cell_type": "markdown",
   "metadata": {},
   "source": [
    "# April 2022 Questions"
   ]
  },
  {
   "cell_type": "code",
   "execution_count": null,
   "metadata": {},
   "outputs": [],
   "source": []
  },
  {
   "cell_type": "code",
   "execution_count": null,
   "metadata": {},
   "outputs": [],
   "source": []
  },
  {
   "cell_type": "code",
   "execution_count": null,
   "metadata": {},
   "outputs": [],
   "source": []
  },
  {
   "cell_type": "markdown",
   "metadata": {},
   "source": [
    "## 04/11 Question\n",
    "\n",
    "Suppose your team interviews undergraduate candidates across many different colleges. You are looking to check which candidates scored the highest from each college.\n",
    "\n",
    "Given the below tables, write a SQL query (using a window function) to show which candidates scored the highest from each college.\n",
    "\n",
    "Table: candidateColleges\n",
    "\n",
    "\n",
    "|college_id\t|candidate_name|\n",
    "|---|---|\n",
    "|123456\t|john_smith|\n",
    "|123456\t|sarah_daniels|\n",
    "|123457\t|tim_cook|\n",
    "|123457\t|lisa_perelli|\n",
    "|123457\t|jenny_west|\n",
    "|123457\t|karl_tran|\n",
    "|123457\t|tammy_turner|\n",
    "\n",
    "    \n",
    "\n",
    "    \n",
    "Table: candidateInterviews\n",
    "\n",
    "Each row represents a unique interview/candidate as well as the candidate's score (an integer from 1-5, with 5 representing the highest possible score).\n",
    "\n",
    "|interview_id|\tcandidate_name|\tinterview_score|\n",
    "|---|---|---|\n",
    "|12|\tjohn_smith|\t4|\n",
    "|22|\tsarah_daniels|\t3|\n",
    "|23|\ttim_cook|\t3|\n",
    "|25|\tlisa_perelli|\t5|\n",
    "|26|\tjenny_west|\t2|\n",
    "|27|\tkarl_tran|\t2|\n",
    "|28|\ttammy_turner|\t4|\n",
    "\n",
    "\n",
    "### Approach\n",
    "\n",
    "To perform the above query, I will:\n",
    "- join the two tables on candidate_name\n",
    "- use the rank function to create a new column, ranking scores by college_id using the partition method/syntax\n",
    "- display the candidate name, college, score and rank ordered by college/score for better college-level comparison\n",
    "\n",
    "### Solution\n",
    "\n",
    "SELECT a.candidate_name AS Name,  <br>\n",
    "       b.college_id as College,<br>\n",
    "       a.interview_score AS Score, <br>\n",
    "       RANK () OVER ( PARTITION BY b.college_id ORDER BY a.interview_score DESC) AS Score_Rank_By_College <br>\n",
    "FROM  candidateInterviews a JOIN  candidateColleges b on a.candidate_name=b.candidate_name <br>\n",
    "order by College desc, Score Desc"
   ]
  },
  {
   "cell_type": "code",
   "execution_count": null,
   "metadata": {},
   "outputs": [],
   "source": []
  },
  {
   "cell_type": "code",
   "execution_count": null,
   "metadata": {},
   "outputs": [],
   "source": []
  },
  {
   "cell_type": "markdown",
   "metadata": {},
   "source": [
    "## 04/04 Question\n",
    "\n",
    "Given an array of integers, print the array in alternating min/max order. The first element should be the first maximum, second element should be the first minimum, third element should be second maximum, etc.\n",
    "\n",
    "For example:\n",
    "    \n",
    "#Given the following array:\n",
    "  \n",
    "arr[] = [10, 2, 11, 3, 7, 4, 1] \n",
    "\n",
    "#Your function should return:\n",
    "\n",
    "11, 1, 10, 2, 7, 3, 4\n",
    "\n",
    "### Approach\n",
    "\n",
    "To solve this proble, I will create a function that will do as follows:\n",
    "- Take in an array\n",
    "- Initiate an empty res array to store the final result\n",
    "- Initiate a queue with our input array\n",
    "- Use a while loop to go through the sorted data\n",
    "    - While there are more than 1 items in the queue, pop and popleft and append the results to the res variable\n",
    "- When there is 0 or 1 item in the array, append the remaining value (if there is one) to the res variable\n",
    "- return res variable\n",
    "\n",
    "### Solution"
   ]
  },
  {
   "cell_type": "code",
   "execution_count": 46,
   "metadata": {},
   "outputs": [],
   "source": [
    "from collections import deque\n",
    "\n",
    "def min_max_order(arr):\n",
    "    res=[]\n",
    "    queue=deque(sorted(arr))\n",
    "    while len(queue)>1:\n",
    "        res.append(queue.pop())\n",
    "        res.append(queue.popleft())\n",
    "    if queue:\n",
    "        res.append(queue.pop())\n",
    "    return res"
   ]
  },
  {
   "cell_type": "code",
   "execution_count": 47,
   "metadata": {},
   "outputs": [
    {
     "data": {
      "text/plain": [
       "[11, 1, 10, 2, 7, 3, 5, 4]"
      ]
     },
     "execution_count": 47,
     "metadata": {},
     "output_type": "execute_result"
    }
   ],
   "source": [
    "min_max_order([10,2,11,3,7,4,1,5])"
   ]
  },
  {
   "cell_type": "markdown",
   "metadata": {},
   "source": [
    "## 04/01 Question\n",
    "\n",
    "Given the following table containing customer transaction data:\n",
    "\n",
    "\n",
    "      \n",
    "Table name: orders \n",
    "\n",
    "\n",
    "      \n",
    "|order_id|\tchannel|\tdate|\tmonth|\trevenue|\n",
    "|---|---|---|---|---|\n",
    "|0\t|1\t|Online\t|2018-09-01\t|09\t|100|\n",
    "|1\t|2\t|Online\t|2018-09-03\t|09\t|125|\n",
    "|2\t|3\t|In_store\t|2018-10-11\t|10\t|200|\n",
    "|3\t|4\t|In_store\t|2018-08-21\t|08\t|80|\n",
    "|4\t|5\t|Online\t|2018-08-13\t|08\t|200|\n",
    "|5\t|6\t|Online\t|2018-10-29\t|10\t|100|\n",
    "    \n",
    "Write SQL queries to answer the following:\n",
    "  \n",
    "- Return all rows in the data table with transaction values over \\$101.\n",
    "- Return all rows in the data table with transaction values over \\$101 that were purchased through the Online channel.\n",
    "- Return all rows in the data table with transaction values that were either over \\$101 OR were purchased In_store.\n",
    "- Return the minimum transaction amount for both channels as well as the corresponding order id.\n",
    "\n",
    "### Solution \n",
    "\n",
    "SELECT * FROM orders WHERE revenue>101 ;\n",
    "\n",
    "SELECT * FROM orders WHERE revenue>101 AND channel = \"Online\";\n",
    "\n",
    "SELECT * FROM orders WHERE revenue>101 OR channel = \"In_store\";\n",
    "\n",
    "SELECT channel, order_id, min(revenue) FROM orders GROUP BY channel;\n",
    "\n"
   ]
  }
 ],
 "metadata": {
  "kernelspec": {
   "display_name": "Python 3",
   "language": "python",
   "name": "python3"
  },
  "language_info": {
   "codemirror_mode": {
    "name": "ipython",
    "version": 3
   },
   "file_extension": ".py",
   "mimetype": "text/x-python",
   "name": "python",
   "nbconvert_exporter": "python",
   "pygments_lexer": "ipython3",
   "version": "3.8.5"
  }
 },
 "nbformat": 4,
 "nbformat_minor": 4
}
