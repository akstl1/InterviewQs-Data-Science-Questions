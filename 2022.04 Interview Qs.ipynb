{
 "cells": [
  {
   "cell_type": "markdown",
   "metadata": {},
   "source": [
    "# April 2022 Questions"
   ]
  },
  {
   "cell_type": "code",
   "execution_count": null,
   "metadata": {},
   "outputs": [],
   "source": []
  },
  {
   "cell_type": "markdown",
   "metadata": {},
   "source": [
    "## 04/01 Question\n",
    "\n",
    "Given the following table containing customer transaction data:\n",
    "\n",
    "\n",
    "      \n",
    "Table name: orders \n",
    "\n",
    "\n",
    "      \n",
    "|order_id|\tchannel|\tdate|\tmonth|\trevenue|\n",
    "|---|---|---|---|---|\n",
    "|0\t|1\t|Online\t|2018-09-01\t|09\t|100|\n",
    "|1\t|2\t|Online\t|2018-09-03\t|09\t|125|\n",
    "|2\t|3\t|In_store\t|2018-10-11\t|10\t|200|\n",
    "|3\t|4\t|In_store\t|2018-08-21\t|08\t|80|\n",
    "|4\t|5\t|Online\t|2018-08-13\t|08\t|200|\n",
    "|5\t|6\t|Online\t|2018-10-29\t|10\t|100|\n",
    "    \n",
    "Write SQL queries to answer the following:\n",
    "  \n",
    "- Return all rows in the data table with transaction values over \\$101.\n",
    "- Return all rows in the data table with transaction values over \\$101 that were purchased through the Online channel.\n",
    "- Return all rows in the data table with transaction values that were either over \\$101 OR were purchased In_store.\n",
    "- Return the minimum transaction amount for both channels as well as the corresponding order id.\n",
    "\n",
    "### Solution \n",
    "\n",
    "SELECT * FROM orders WHERE revenue>101 ;\n",
    "\n",
    "SELECT * FROM orders WHERE revenue>101 AND channel = \"Online\";\n",
    "\n",
    "SELECT * FROM orders WHERE revenue>101 OR channel = \"In_store\";\n",
    "\n",
    "SELECT channel, order_id, min(revenue) FROM orders GROUP BY channel;\n",
    "\n"
   ]
  }
 ],
 "metadata": {
  "kernelspec": {
   "display_name": "Python 3",
   "language": "python",
   "name": "python3"
  },
  "language_info": {
   "codemirror_mode": {
    "name": "ipython",
    "version": 3
   },
   "file_extension": ".py",
   "mimetype": "text/x-python",
   "name": "python",
   "nbconvert_exporter": "python",
   "pygments_lexer": "ipython3",
   "version": "3.8.5"
  }
 },
 "nbformat": 4,
 "nbformat_minor": 4
}
