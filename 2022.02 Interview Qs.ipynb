{
 "cells": [
  {
   "cell_type": "markdown",
   "metadata": {},
   "source": [
    "# 02/2022 Questions\n",
    "\n",
    "This notebook will track progress on practice questions that are sent by the InterviewQs website. "
   ]
  },
  {
   "cell_type": "code",
   "execution_count": null,
   "metadata": {},
   "outputs": [],
   "source": []
  },
  {
   "cell_type": "markdown",
   "metadata": {},
   "source": [
    "## 02/28 Question\n",
    "\n",
    "A given car has a number of miles it can run before its battery is depleted, where the number of miles are exponentially distributed with an average of 10,000 miles to depletion.\n",
    "\n",
    "\n",
    "                    \n",
    "If a given individual needs to make a trip that's 3,000 miles, what is the probability that she/he will be able to complete the trip without having to replace the battery? You can assume the car battery is new for this problem.\n",
    "\n",
    "\n",
    "    \n",
    "                    \n",
    "For some reading material on exponential distributions, you can visit this link. https://www.probabilitycourse.com/chapter4/4_2_2_exponential.php\n",
    "\n",
    "## Approach\n",
    "\n",
    "An exponential distribution is defined by the following equation for any x greater than 0: x = $Le^{-Lx}$.\n",
    "\n",
    "In the equation:\n",
    "- e is Euler's number\n",
    "- L is a constant\n",
    "- x is the probability value/outcome, in this case the probability\n",
    "\n",
    "To solve the problem, we must first find the value of L. To do so, we use the knowledge that the average value of an exponential distribution is as follows: <br>\n",
    "x = 1/L. \n",
    "\n",
    "We know that the average is 10,000 miles from the statement, so solving for L we get that L is 0.0001.\n",
    "\n",
    "Now we can use this to solve the following equation to solve the problem:\n",
    "$e^{-Lx}$\n",
    "\n",
    "Substituting L as 0.001 and x as 3,000 per the statement: \n",
    "\n",
    "x = $e^{-0.001*3000}$ = 0.74\n",
    "\n",
    "0.74 represents the probability P(X>x), meaning the probability that the cumulative probability that the car battery will lose charge if more than 3,000 miles are driven. \n",
    "\n",
    "__We are looking to find the probability that the car battery will last 3,000 miles so we subtract the above probability from 1 to get a final result of 0.26 or 26%.__"
   ]
  },
  {
   "cell_type": "markdown",
   "metadata": {},
   "source": [
    "## 02/25 Question \n",
    "\n",
    "Suppose you're given a portion of a phone number. Each digit corresponds to letters (as shown below). Using python, write code to return all possible combinations the given number could represent.\n",
    " \n",
    "For example:\n",
    "\n",
    "Input: \"24\"\n",
    "    \n",
    "Output: \n",
    "    \n",
    "['a', 'g'], ['a', 'h'] ,['a', 'i'], ['b', 'g'], ['b', 'h'], ['b', 'i'], ['c', 'g'], ['c', 'h'], ['c', 'i']\n",
    "    \n",
    "## Approach\n",
    "\n",
    "For this problem I will do the following:\n",
    "- Map letters to each corresponding item in an array\n",
    "- use the given input numbers to find the letters assigned to those numbers, by accessing the array\n",
    "- find all the combinations of two letters between these two lists of letters by using the product function in itertools library\n",
    "- print the final list result\n",
    "    "
   ]
  },
  {
   "cell_type": "code",
   "execution_count": 36,
   "metadata": {},
   "outputs": [],
   "source": [
    "from itertools import product\n",
    "tel_keys = [0,0,\"abc\",\"def\",\"ghi\",\"jkl\",\"mno\",\"pqrs\",\"tuv\",\"wxyz\"]\n",
    "\n",
    "def telephone_numbers_to_letters(num1, num2):\n",
    "    list1,list2 = tel_keys[num1],tel_keys[num2]\n",
    "    all_letter_combinations = list(product(list1,list2))\n",
    "    print (all_letter_combinations)"
   ]
  },
  {
   "cell_type": "code",
   "execution_count": 37,
   "metadata": {},
   "outputs": [
    {
     "name": "stdout",
     "output_type": "stream",
     "text": [
      "[('a', 'd'), ('a', 'e'), ('a', 'f'), ('b', 'd'), ('b', 'e'), ('b', 'f'), ('c', 'd'), ('c', 'e'), ('c', 'f')]\n"
     ]
    }
   ],
   "source": [
    "telephone_numbers_to_letters(2,3)"
   ]
  },
  {
   "cell_type": "markdown",
   "metadata": {},
   "source": [
    "## 02/23 Question \n",
    "\n",
    "You are an analyst for a major US hotel chain which has locations all over the US. Your marketing team is planning a promotion focused around loyal customers, and they are trying to forecast how much revenue the promotion will bring in. However, they need help from you to understand how much revenue comes from \"loyal\" customers to plug into their model. \n",
    "\n",
    "\n",
    "    \n",
    "A \"loyal\" customer is defined as:\n",
    "\n",
    "\n",
    "    \n",
    "\n",
    "    \n",
    "having a membership with your company's point system, \n",
    "    \n",
    "meeting either of the below conditions\n",
    "    \n",
    "\n",
    "    \n",
    " having >2 stays at any hotel location\n",
    "    \n",
    " having stayed at 3 different locations\n",
    "    \n",
    "\n",
    "    \n",
    "\n",
    "    \n",
    "You have a table showing all transactions made in 2017. The schema of the table is below:\n",
    "\n",
    "\n",
    "    \n",
    "Table: customer_transactions\n",
    "\n",
    "\n",
    "    \n",
    "|Column Name|\tData Type|\tDescription|\n",
    "|---|---|---|\n",
    "|customer_id|\tid|\tid of the customer|\n",
    "|hotel_id|\tinteger|\tunique id for hotel|\n",
    "|transaction_id|\tinteger|\tid of the given transaction|\n",
    "|first_night|\tstring|\tfirst night of the stay, column format is \"YYYY-mm-dd\" |\n",
    "|number_of_nights|\tinteger|\t# of nights the customer stayed in hotel|\n",
    "|total_spend|\tinteger|\ttotal spend for transaction, in USD|\n",
    "|is_member|\tboolean|\tindicates if the customer is a member of our points system|\n",
    "\n",
    "Using the information above, write a SQL query to show total revenue from 'loyal' customers.\n",
    "\n",
    "## Approach\n",
    "\n",
    "To create this SQL query, I will group the data by customer to determine whether the customer meets all criteria. I will also create columns to meet the other requirements:\n",
    "- a distinct count of the hotels a customer stayed at, via hotel_id\n",
    "- the max number of nights stayed at a particular hotel\n",
    "- the sum of total hotel spend for the customer\n",
    "\n",
    "I will then use a HAVING clause to only include results where a customer has stayed at 3 or more hotels and has a max stay greater than 2 nights. Thus I will only have the relevant customers selected. I can then aggregate these individual total_spend sums into an overall total expected spend from the loyal customers."
   ]
  },
  {
   "cell_type": "markdown",
   "metadata": {},
   "source": [
    "SELECT COUNT(customer_id), SUM(Loyal_Cust_Revenue) FROM ( <br>\n",
    "SELECT customer_id, COUNT(DISTINCT(hotel_id)) AS Number_of_Locations_Stayed, MAX(number_of_nights) as Number_of_Nights_max, SUM(total_spend) AS Loyal_Cust_Revenue<br>\n",
    "FROM customer_transactions<br>\n",
    "GROUP BY customer_id<br>\n",
    "HAVING Number_of_Locations_Stayed>3 AND Number_of_Nights_max>2<br>)"
   ]
  },
  {
   "cell_type": "markdown",
   "metadata": {},
   "source": [
    "## 02/21 Question - To Do\n",
    "\n",
    "You are given a dataframe containing student information, named df (shown below). Suppose you want to normalize each student's grade based on their age.\n",
    "\n",
    "\n",
    "    \n",
    "Age\tFavorite Color\tGrade\tName\n",
    "20\tblue\t88\tWillard Morris\n",
    "19\tblue\t95\tAl Jennings\n",
    "22\tyellow\t92\tOmar Mullins\n",
    "21\tgreen\t70\tSpencer McDaniel\n",
    "\n",
    "    \n",
    "\n",
    "    \n",
    "Write a function using Python Pandas that will add a new column to your dataframe containing a new grade normalized against the mean age of the students."
   ]
  },
  {
   "cell_type": "markdown",
   "metadata": {},
   "source": [
    "## 02/18 Question - To Do\n",
    "\n",
    "Suppose you're working for a car rental company, looking to model potential location distribution of their cars at major airports. The company operates in LA, SF, and San Jose. Customers regularly pickup a car in one of these 3 cities and drop it off in another. The company is looking to compute how likely it is that a given car will end up in a given city. You can model this as a Markov chain (where each time step corresponds to a new customer taking the car).\n",
    "\n",
    "\n",
    "    \n",
    "The transition probabilities of the company's car allocation by city are as follows:\n",
    "\n",
    "\n",
    "    \n",
    " SF | LA | San Jose\n",
    "    \n",
    " 0.6  0.1  0.3 | SF\n",
    "    \n",
    " 0.2  0.8  0.3 | LA\n",
    "    \n",
    " 0.2  0.1  0.4 | San Jose\n",
    "    \n",
    "\n",
    "    \n",
    "As shown, the probability a car stays in SF is 0.6, the probability it moves from SF to LA is 0.2, SF to San Jose is 0.2, etc.\n",
    "\n",
    "\n",
    "    \n",
    "Using the information above, determine the probability a car will start in SF but move to LA right after.\n",
    "\n"
   ]
  },
  {
   "cell_type": "markdown",
   "metadata": {},
   "source": [
    "## 02/16 Question\n",
    "\n",
    "Given an array of integers, can you write a function that returns \"True\" if there is a triplet (a, b, c) within the array that satisfies a^2 + b^2 = c^2?\n",
    "\n",
    "### Approach\n",
    "\n",
    "For this problem, I will loop through every combination of items in the provided array and check whether or not the square of the first two terms is equal to the third:"
   ]
  },
  {
   "cell_type": "code",
   "execution_count": 11,
   "metadata": {},
   "outputs": [],
   "source": [
    "def isTriplet(ar):\n",
    "    n=len(ar)\n",
    "    j = 0\n",
    "     \n",
    "    for i in range(n - 2):\n",
    "        for k in range(j + 1, n):\n",
    "            for j in range(i + 1, n - 1):\n",
    "                # Calculate square of array elements\n",
    "                x = ar[i]*ar[i]\n",
    "                y = ar[j]*ar[j]\n",
    "                z = ar[k]*ar[k]\n",
    "                if (x == y + z or y == x + z or z == x + y):\n",
    "                    return True\n",
    "     \n",
    "    # If we reach here, no triplet found\n",
    "    return False"
   ]
  },
  {
   "cell_type": "code",
   "execution_count": 12,
   "metadata": {},
   "outputs": [
    {
     "data": {
      "text/plain": [
       "True"
      ]
     },
     "execution_count": 12,
     "metadata": {},
     "output_type": "execute_result"
    }
   ],
   "source": [
    "isTriplet([3, 1, 4, 6, 5])"
   ]
  },
  {
   "cell_type": "markdown",
   "metadata": {},
   "source": [
    "## 02/14 Question\n",
    "\n",
    "Below are two table schemas for a popular music streaming application:\n",
    "\n",
    "Table 1: user_song_log\n",
    "\n",
    "|Column Name|\tData Type|\tDescription|\n",
    "|---|---|---|\n",
    "|user_id\t|id\t|id of the streaming user|\n",
    "|timestamp\t|integer\t|timestamp of when the user started listening to the song, epoch seconds|\n",
    "|song_id\t|integer\t|id of the song|\n",
    "|artist_id\t|integer\t|id of the artist|\n",
    "\n",
    "    \n",
    "\n",
    "    \n",
    "Table 2: song_info\n",
    "\n",
    "\n",
    "    \n",
    "|Column Name|\tData Type|\tDescription|\n",
    "|---|---|---|\n",
    "|song_id|\tinteger|\tid of the song|\n",
    "|artist_id|\tinteger|\tid of the artist|\n",
    "|song_length|\tinteger|\tlength of song in seconds|\n",
    "\n",
    "Given the above, can you write a SQL query to estimate the average number of hours a user spends listening to music daily? You can assume that once a given user starts a song, they listen to it in its entirety.\n",
    "\n",
    "### Approach\n",
    "\n",
    "To solve the above, I will take the following steps:\n",
    "- join the two tables based on song_id and artist_id, so that each corresponding listen can be tied to a length of listening\n",
    "- convert the timestamp figure to a date\n",
    "- convert song length to minutes per the question request\n",
    "- group the merged table by user id and date, and sum listening time for each user/day accordingly. This will yield a daily listening time column\n",
    "- use the above table as a subquery, and select user id and average daily listening time in the main query to find the average listening time per user per day\n",
    "\n",
    "### Solution\n",
    "\n",
    "SELECT user_id, avg(daily_listening_time) from ( <br>\n",
    "\n",
    "SELECT a.user_id,  <br>\n",
    "    SUM(b.song_length/60) as daily_listening_time,  <br>\n",
    "    (strftime('%Y-%m-%d', timestampe, 'unixepoch')) date1 <br>\n",
    "FROM user_song_log a <br>\n",
    "JOIN song_info b <br>\n",
    "on a.song_id=b.song_id AND a.artist_id=b.artist_id <br>\n",
    "GROUP BY a.user_id, date1 <br>\n",
    "\n",
    ")"
   ]
  },
  {
   "cell_type": "markdown",
   "metadata": {},
   "source": [
    "## 02/11 Question - In Progress\n",
    "\n",
    "Suppose you have the following dataset which contains which contains (1st tab) a list of items purchased by a given user, (2nd tab) a mapping which maps the item_id to the item name and price, and (3rd tab) a matrix that formats data from sheet 1 into a matrix with users in rows and the number of each item_id purchased.\n",
    "\n",
    "Given these 3 data sets, can you create a list of users who have spent the most?"
   ]
  },
  {
   "cell_type": "markdown",
   "metadata": {},
   "source": [
    "## 02/09 Question\n",
    "\n",
    "Can you explain how a receiver operating characteristic curver, or ROC curve, works?\n",
    "\n",
    "<img src=\"./Images/2022.02.09_ROC.png\">\n",
    "\n",
    "### Explanation\n",
    "\n",
    "An ROC curve shows the performance of a classification model at all given thresholds. The curve takes in the true positive rate and false positive rate parameters results from the model to do so.\n",
    "\n",
    "The True Positive rate is calculated by dividing the number of true positives in a dataset by the sum of true positives and false negatives that the model output. In otherwords, the number of correctly predicted positive results by the total number of positives in the dataset. This is also known as recall.\n",
    "\n",
    "The false positive rate is calculated by dividing the number of false positives from the model by the sum of false positives and true negatives. In other words, the number of incorrect positive predictions by the total number of negatives the model predicted.\n",
    "\n",
    "An ideal curve trends to be relatively up and to the left of a plot. The higher up the y-axis the line is, the higher the recall of the model. Higher recall is good as it indicates that that a higher proportion of actual positives are correctly predicted.\n",
    "\n",
    "ROC plots can also include a measure for the area under the ROC curve, and this measure is abbreviated as AUC. AUC can be used to more easily evalute/compare different ROC's. The AUC measures a model's performance on the provided data at all thresholds.\n",
    "\n",
    "ROC plots also often include a control line that goes 45 degrees up from the origin for reference, as shown by the dotted line in the image above. An ROC curve should be \"higher\" than this line, and once again the higher up the ROC line and the sooner it reaches a value of 1 the higher the recall of the model."
   ]
  },
  {
   "cell_type": "markdown",
   "metadata": {},
   "source": [
    "## 02/07\n",
    "\n",
    "You have a list of integers that range from values 1 to n. Each value in the list is unique, however one random slot in the list is empty, making the size of the input array n-1. Can you write a function to find the missing integer?\n",
    "\n",
    "Examples:\n",
    "\n",
    "Input: arr[] = [1, 2, 4, 6, 3, 7, 8]\n",
    "\n",
    "Output: 5   \n",
    "\n",
    "Input: arr[] = [1, 3, 2, 5, 6]\n",
    "\n",
    "Output: 4\n",
    "\n",
    "### Approach\n",
    "\n",
    "We know from the problem that a complete array should have integers 1 to n, but in our case 1 of these integers is missing. The sum of any sequence of numbers 1 to n is equal to n(n+1) / 2.\n",
    "\n",
    "Knowing this, I will create a function that will calculate the above formula. Note that since one number is missing from the array, 'n' will be equal to the length of the input array plus one. Next I will subtract the sum of the numbers in the array. The difference between these numbers, essentially expected vs actual sum, will be the missing number in the array.\n",
    "\n",
    "### Solution"
   ]
  },
  {
   "cell_type": "code",
   "execution_count": 7,
   "metadata": {},
   "outputs": [],
   "source": [
    "def find_missing_int(arr):\n",
    "    expected_sum = ((len(arr)+1)*(len(arr)+2)) / 2\n",
    "    return expected_sum - sum(arr)"
   ]
  },
  {
   "cell_type": "markdown",
   "metadata": {},
   "source": [
    "## 02/04\n",
    "\n",
    "Suppose you work for a conglomerate that is constantly acquiring new companies. You're working with the human resource team to understand how many new employees you're taking on. Each of the companies you are acquiring has the following organization structure:\n",
    "\n",
    "Chief executive -> VP -> Director -> Manager -> Individual Contributor\n",
    "    \n",
    "You can assume that you have all this information in the following table:\n",
    "    \n",
    "Table: allCompanyEmployees\n",
    "    \n",
    "|chief_executive_officer|\tvice_president\t|director|\tmanager\t|individual_contributor|\tcompany_code|\n",
    "|---|---|---|---|---|---|\n",
    "|johnny|\ttammy|\tlenny|\tpenny|\tjim|\tabc|\n",
    "|johnny|\ttammy|\tlenny|\tpenny|\ttim\t|abc|\n",
    "|johnny|\ttammy|\tlenny|\tpenny|\tpam\t|abc|\n",
    "|michael|\tpam|\tjerry|\tjimmy|\ttimmy|\tdef|\n",
    "\n",
    "You can also assume that each individual's name is unique in the table for simplicity (similar to an employee ID or user name). Given the table, can you write a SQL query to print the company_code, CEO name (or ID), total number of vice presidents, total number of directors, total number of  managers, and total number of individual contributors?"
   ]
  },
  {
   "cell_type": "markdown",
   "metadata": {},
   "source": [
    "### Approach\n",
    "\n",
    "The question is asking to aggregate the columns of the table by counting distinct values in each personnel category. To do this, I will group the data by company_code, and utilize count and distinct commands to find the total number of employees by category.\n",
    "\n",
    "### Solution\n",
    "\n",
    "FROM allCompanyEmployees SELECT company_code,<br>               COUNT(DISTINCT(chief_executive_officer), <br>\n",
    "COUNT(DISTINCT(individual_contributor),<br>\n",
    "COUNT(DISTINCT(vice_president),\n",
    "<br>COUNT(DISTINCT(director),\n",
    "<br>COUNT(DISTINCT(manager)\n",
    "<br>GROUP BY company_code"
   ]
  },
  {
   "cell_type": "markdown",
   "metadata": {},
   "source": [
    "## 02/02\n",
    "\n",
    "Suppose you're given a portfolio of equities and asked to calculate the 'value at risk' (VaR) via the variance-covariance method.\n",
    "\n",
    "\n",
    "    \n",
    "The VaR is a statistical risk management technique measuring the maximum loss that an investment portfolio is likely to face within a specified time frame with a certain degree of confidence. The VaR is a commonly calculated metric used within a suite of financial metrics and models to help aid in investment decisions.\n",
    "\n",
    "\n",
    "    \n",
    "In order to calculate the VaR of your portfolio, you can follow the steps below:\n",
    "\n",
    "\n",
    "    \n",
    "\n",
    "      \n",
    "Calculate periodic returns of the stocks in your portfolio\n",
    "\n",
    "      \n",
    "Create a covariance matrix based on (1)\n",
    "\n",
    "      \n",
    "Calculate the portfolio mean and standard deviation (weighted based on investment levels of each stock in the portfolio)\n",
    "\n",
    "      \n",
    "Calculate the inverse of the normal cumulative distribution with a specified probability, standard deviation, and mean\n",
    "\n",
    "       \n",
    "Estimate the value at risk for the portfolio by subtracting the initial investment from the calculation in step 4\n",
    "\n",
    "      \n",
    "\n",
    "      \n",
    "To help get you started, you can reference this Google Colab notebook with the historical returns for a portfolio of the following equities:\n",
    "      \n",
    "\n",
    "['AAPL','FB', 'C', 'DIS']"
   ]
  },
  {
   "cell_type": "code",
   "execution_count": null,
   "metadata": {},
   "outputs": [],
   "source": []
  },
  {
   "cell_type": "code",
   "execution_count": null,
   "metadata": {},
   "outputs": [],
   "source": []
  }
 ],
 "metadata": {
  "kernelspec": {
   "display_name": "Python 3",
   "language": "python",
   "name": "python3"
  },
  "language_info": {
   "codemirror_mode": {
    "name": "ipython",
    "version": 3
   },
   "file_extension": ".py",
   "mimetype": "text/x-python",
   "name": "python",
   "nbconvert_exporter": "python",
   "pygments_lexer": "ipython3",
   "version": "3.8.5"
  }
 },
 "nbformat": 4,
 "nbformat_minor": 4
}
