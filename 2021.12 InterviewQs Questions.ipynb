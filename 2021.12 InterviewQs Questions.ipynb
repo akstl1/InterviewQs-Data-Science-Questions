{
 "cells": [
  {
   "cell_type": "markdown",
   "metadata": {},
   "source": [
    "# 12/2021 Questions\n",
    "\n",
    "This notebook will track progress on practice questions that are sent by the InterviewQs website. "
   ]
  },
  {
   "cell_type": "markdown",
   "metadata": {},
   "source": [
    "------------------\n",
    "## 12/29 Question\n",
    "\n",
    "You are given a data set of Baby names. Using this, write code to determine what the top boy and girl names were in 2009.\n",
    "\n",
    "### Approach\n",
    "\n",
    "The given dataframe has columns for Name, Year, Gender and count which we can use to filter and aggregate data. To answer the question we will:\n",
    "- create two dataframes, one each for males and females born in 2009. These will be accessed for further analysis and reduces processing of irrelevant data in the future\n",
    "- group each of the dataframes by name and sum the values of each numeric column during that process. This will allow us to get a final count for each name\n",
    "- find the index where the Count of names is highest, and show the corresponding name for that index in the dataframe\n",
    "\n",
    "### Result\n",
    "\n",
    "Per the below, the top boy name in 2009 was Jacob and the top girl name was Isabella"
   ]
  },
  {
   "cell_type": "code",
   "execution_count": 1,
   "metadata": {},
   "outputs": [],
   "source": [
    "#importing libaries\n",
    "import numpy as np\n",
    "import pandas as pd"
   ]
  },
  {
   "cell_type": "code",
   "execution_count": 3,
   "metadata": {},
   "outputs": [],
   "source": [
    "#reading csv into a dataframe\n",
    "baby_names = pd.read_csv('https://raw.githubusercontent.com/guipsamora/pandas_exercises/master/06_Stats/US_Baby_Names/US_Baby_Names_right.csv')\n",
    "    "
   ]
  },
  {
   "cell_type": "code",
   "execution_count": 15,
   "metadata": {
    "scrolled": false
   },
   "outputs": [
    {
     "data": {
      "text/html": [
       "<div>\n",
       "<style scoped>\n",
       "    .dataframe tbody tr th:only-of-type {\n",
       "        vertical-align: middle;\n",
       "    }\n",
       "\n",
       "    .dataframe tbody tr th {\n",
       "        vertical-align: top;\n",
       "    }\n",
       "\n",
       "    .dataframe thead th {\n",
       "        text-align: right;\n",
       "    }\n",
       "</style>\n",
       "<table border=\"1\" class=\"dataframe\">\n",
       "  <thead>\n",
       "    <tr style=\"text-align: right;\">\n",
       "      <th></th>\n",
       "      <th>Unnamed: 0</th>\n",
       "      <th>Id</th>\n",
       "      <th>Name</th>\n",
       "      <th>Year</th>\n",
       "      <th>Gender</th>\n",
       "      <th>State</th>\n",
       "      <th>Count</th>\n",
       "    </tr>\n",
       "  </thead>\n",
       "  <tbody>\n",
       "    <tr>\n",
       "      <th>0</th>\n",
       "      <td>11349</td>\n",
       "      <td>11350</td>\n",
       "      <td>Emma</td>\n",
       "      <td>2004</td>\n",
       "      <td>F</td>\n",
       "      <td>AK</td>\n",
       "      <td>62</td>\n",
       "    </tr>\n",
       "    <tr>\n",
       "      <th>1</th>\n",
       "      <td>11350</td>\n",
       "      <td>11351</td>\n",
       "      <td>Madison</td>\n",
       "      <td>2004</td>\n",
       "      <td>F</td>\n",
       "      <td>AK</td>\n",
       "      <td>48</td>\n",
       "    </tr>\n",
       "    <tr>\n",
       "      <th>2</th>\n",
       "      <td>11351</td>\n",
       "      <td>11352</td>\n",
       "      <td>Hannah</td>\n",
       "      <td>2004</td>\n",
       "      <td>F</td>\n",
       "      <td>AK</td>\n",
       "      <td>46</td>\n",
       "    </tr>\n",
       "    <tr>\n",
       "      <th>3</th>\n",
       "      <td>11352</td>\n",
       "      <td>11353</td>\n",
       "      <td>Grace</td>\n",
       "      <td>2004</td>\n",
       "      <td>F</td>\n",
       "      <td>AK</td>\n",
       "      <td>44</td>\n",
       "    </tr>\n",
       "    <tr>\n",
       "      <th>4</th>\n",
       "      <td>11353</td>\n",
       "      <td>11354</td>\n",
       "      <td>Emily</td>\n",
       "      <td>2004</td>\n",
       "      <td>F</td>\n",
       "      <td>AK</td>\n",
       "      <td>41</td>\n",
       "    </tr>\n",
       "  </tbody>\n",
       "</table>\n",
       "</div>"
      ],
      "text/plain": [
       "   Unnamed: 0     Id     Name  Year Gender State  Count\n",
       "0       11349  11350     Emma  2004      F    AK     62\n",
       "1       11350  11351  Madison  2004      F    AK     48\n",
       "2       11351  11352   Hannah  2004      F    AK     46\n",
       "3       11352  11353    Grace  2004      F    AK     44\n",
       "4       11353  11354    Emily  2004      F    AK     41"
      ]
     },
     "execution_count": 15,
     "metadata": {},
     "output_type": "execute_result"
    }
   ],
   "source": [
    "#viewing dataframe\n",
    "baby_names.head()"
   ]
  },
  {
   "cell_type": "code",
   "execution_count": 159,
   "metadata": {},
   "outputs": [],
   "source": [
    "# create two dfs, one each for male and female babies in 2009\n",
    "male_names_2009 = baby_names[(baby_names[\"Gender\"]==\"M\") & (baby_names[\"Year\"]==2009)]\n",
    "female_names_2009 = baby_names[(baby_names[\"Gender\"]==\"F\") & (baby_names[\"Year\"]==2009)]"
   ]
  },
  {
   "cell_type": "code",
   "execution_count": 160,
   "metadata": {},
   "outputs": [],
   "source": [
    "# group above df's by name, and sum the value of each numeric column\n",
    "male_names_2009 = male_names_2009.groupby(\"Name\").sum().reset_index()\n",
    "female_names_2009 = female_names_2009.groupby(\"Name\").sum().reset_index()"
   ]
  },
  {
   "cell_type": "code",
   "execution_count": 169,
   "metadata": {},
   "outputs": [
    {
     "data": {
      "text/plain": [
       "1889    Jacob\n",
       "Name: Name, dtype: object"
      ]
     },
     "execution_count": 169,
     "metadata": {},
     "output_type": "execute_result"
    }
   ],
   "source": [
    "#find index with highest Count value, and show the male Name for that row's value\n",
    "male_names_2009.iloc[[male_names_2009[\"Count\"].idxmax()]][\"Name\"]"
   ]
  },
  {
   "cell_type": "code",
   "execution_count": 168,
   "metadata": {
    "scrolled": true
   },
   "outputs": [
    {
     "data": {
      "text/plain": [
       "2404    Isabella\n",
       "Name: Name, dtype: object"
      ]
     },
     "execution_count": 168,
     "metadata": {},
     "output_type": "execute_result"
    }
   ],
   "source": [
    "#find index with highest Count value, and show the female Name for that row's value\n",
    "female_names_2009.iloc[[female_names_2009[\"Count\"].idxmax()]][\"Name\"]"
   ]
  },
  {
   "cell_type": "markdown",
   "metadata": {},
   "source": [
    "<strong> The top boy name in 2009 was Jacob and the top girl name was Isabella <strong>"
   ]
  },
  {
   "cell_type": "markdown",
   "metadata": {},
   "source": [
    "---------------\n",
    "## 12/27/2021 Question\n",
    "\n",
    "Suppose you're working in a parts manufacturing plant, and you're running quality analysis on the gasket production line. Gaskets produced by your company will be defective 1% of the time, and are distributed to customers in packs of 20. Your company has a policy where if 2 or more of the 20 gaskets in a given pack is defective, they will replace the entire package for free. What proportion of packages does the company need to replace?\n",
    "\n",
    "### Approach\n",
    "\n",
    "This problem deals with a binomial distribution. To solve this problem I will use the binomial formula:\n",
    "\n",
    "b(x,n,P) = nCx * P^x * (1 - P)^(n - x) = { n! / [ x! (n - x)! ] } * Px * (1 - P)^(n - x)\n",
    "\n",
    "In the problem, it asks us for the probability that >=2 items will be defective. To do so, we will calculate the probability of 0 or 1 defects occurring and subtract from 100%\n",
    "\n",
    "In our case:\n",
    "- n is the total amount of items being sent per order, 20\n",
    "- x is the amount of correct items in the pack, in this case 19 and 20 out of the 20\n",
    "- P is the probability of success. this is 100%-1% defect rate = 99%\n",
    "\n",
    "### Solution\n",
    "Per the below math, the final result of this process is 1.68% of packages will need to be replaced"
   ]
  },
  {
   "cell_type": "code",
   "execution_count": 181,
   "metadata": {},
   "outputs": [],
   "source": [
    "import math"
   ]
  },
  {
   "cell_type": "code",
   "execution_count": 182,
   "metadata": {},
   "outputs": [],
   "source": [
    "#set our n value\n",
    "n = 20"
   ]
  },
  {
   "cell_type": "code",
   "execution_count": 183,
   "metadata": {},
   "outputs": [],
   "source": [
    "# set initial x value of 19, for 1 defect case\n",
    "x1 = 19"
   ]
  },
  {
   "cell_type": "code",
   "execution_count": 184,
   "metadata": {},
   "outputs": [],
   "source": [
    "# set second x value of 20, for 0 defect case\n",
    "x2=20"
   ]
  },
  {
   "cell_type": "code",
   "execution_count": 185,
   "metadata": {},
   "outputs": [],
   "source": [
    "#set our probability of success\n",
    "P = .99"
   ]
  },
  {
   "cell_type": "code",
   "execution_count": 186,
   "metadata": {},
   "outputs": [],
   "source": [
    "#set b1 probability of having 1 defect in a package\n",
    "b1 = (math.factorial(n)/(math.factorial(x1)*math.factorial(n-x1)))*P**x1*(1-P)**(n-x1)"
   ]
  },
  {
   "cell_type": "code",
   "execution_count": 187,
   "metadata": {},
   "outputs": [],
   "source": [
    "#set b2 probability of having 0 defects in a package\n",
    "b2 = (math.factorial(n)/(math.factorial(x2)*math.factorial(n-x2)))*P**x2*(1-P)**(n-x2)"
   ]
  },
  {
   "cell_type": "code",
   "execution_count": 188,
   "metadata": {},
   "outputs": [
    {
     "data": {
      "text/plain": [
       "1.6859337635651839"
      ]
     },
     "execution_count": 188,
     "metadata": {},
     "output_type": "execute_result"
    }
   ],
   "source": [
    "#calculate precent of having >=2 defects per package, by subtracting probabilities of <=1 defect from 100%\n",
    "defective_package_rate=(1-(b1+b2))*100\n",
    "defective_package_rate"
   ]
  },
  {
   "cell_type": "markdown",
   "metadata": {},
   "source": [
    "<strong> Our final answer per the above calculations is that the percent of packages that will need to be sent back are 1.68% <strong>"
   ]
  },
  {
   "cell_type": "markdown",
   "metadata": {},
   "source": [
    "________________________________\n",
    "## 12/24/2021 Question\n",
    "\n",
    "Given the following dataset, can you find the top state for baby births? One way to show this visually to a stakeholder would be to plot the births by state (using something like matplotlib).\n",
    "\n",
    "### Approach\n",
    "\n",
    "To find births by state, I will:\n",
    "- Import data\n",
    "- Take out columns that aren't relevant to the analysis\n",
    "- Group data by the state column\n",
    "- Plot the data per the task specification\n",
    "\n",
    "### Solution\n",
    "\n",
    "Per the below, the state with most births was California"
   ]
  },
  {
   "cell_type": "code",
   "execution_count": 171,
   "metadata": {},
   "outputs": [],
   "source": [
    "#import data processing and visualization packages\n",
    "import pandas as pd\n",
    "import seaborn as sns"
   ]
  },
  {
   "cell_type": "code",
   "execution_count": 172,
   "metadata": {},
   "outputs": [],
   "source": [
    "#import data\n",
    "data= pd.read_csv(\"./Data/2021_12_24_US_Baby_Names.csv\")"
   ]
  },
  {
   "cell_type": "code",
   "execution_count": 173,
   "metadata": {},
   "outputs": [
    {
     "data": {
      "text/html": [
       "<div>\n",
       "<style scoped>\n",
       "    .dataframe tbody tr th:only-of-type {\n",
       "        vertical-align: middle;\n",
       "    }\n",
       "\n",
       "    .dataframe tbody tr th {\n",
       "        vertical-align: top;\n",
       "    }\n",
       "\n",
       "    .dataframe thead th {\n",
       "        text-align: right;\n",
       "    }\n",
       "</style>\n",
       "<table border=\"1\" class=\"dataframe\">\n",
       "  <thead>\n",
       "    <tr style=\"text-align: right;\">\n",
       "      <th></th>\n",
       "      <th>Unnamed: 0</th>\n",
       "      <th>Id</th>\n",
       "      <th>Name</th>\n",
       "      <th>Year</th>\n",
       "      <th>Gender</th>\n",
       "      <th>State</th>\n",
       "      <th>Count</th>\n",
       "    </tr>\n",
       "  </thead>\n",
       "  <tbody>\n",
       "    <tr>\n",
       "      <th>0</th>\n",
       "      <td>11349</td>\n",
       "      <td>11350</td>\n",
       "      <td>Emma</td>\n",
       "      <td>2004</td>\n",
       "      <td>F</td>\n",
       "      <td>AK</td>\n",
       "      <td>62</td>\n",
       "    </tr>\n",
       "    <tr>\n",
       "      <th>1</th>\n",
       "      <td>11350</td>\n",
       "      <td>11351</td>\n",
       "      <td>Madison</td>\n",
       "      <td>2004</td>\n",
       "      <td>F</td>\n",
       "      <td>AK</td>\n",
       "      <td>48</td>\n",
       "    </tr>\n",
       "    <tr>\n",
       "      <th>2</th>\n",
       "      <td>11351</td>\n",
       "      <td>11352</td>\n",
       "      <td>Hannah</td>\n",
       "      <td>2004</td>\n",
       "      <td>F</td>\n",
       "      <td>AK</td>\n",
       "      <td>46</td>\n",
       "    </tr>\n",
       "    <tr>\n",
       "      <th>3</th>\n",
       "      <td>11352</td>\n",
       "      <td>11353</td>\n",
       "      <td>Grace</td>\n",
       "      <td>2004</td>\n",
       "      <td>F</td>\n",
       "      <td>AK</td>\n",
       "      <td>44</td>\n",
       "    </tr>\n",
       "    <tr>\n",
       "      <th>4</th>\n",
       "      <td>11353</td>\n",
       "      <td>11354</td>\n",
       "      <td>Emily</td>\n",
       "      <td>2004</td>\n",
       "      <td>F</td>\n",
       "      <td>AK</td>\n",
       "      <td>41</td>\n",
       "    </tr>\n",
       "  </tbody>\n",
       "</table>\n",
       "</div>"
      ],
      "text/plain": [
       "   Unnamed: 0     Id     Name  Year Gender State  Count\n",
       "0       11349  11350     Emma  2004      F    AK     62\n",
       "1       11350  11351  Madison  2004      F    AK     48\n",
       "2       11351  11352   Hannah  2004      F    AK     46\n",
       "3       11352  11353    Grace  2004      F    AK     44\n",
       "4       11353  11354    Emily  2004      F    AK     41"
      ]
     },
     "execution_count": 173,
     "metadata": {},
     "output_type": "execute_result"
    }
   ],
   "source": [
    "#look at data to structure queries\n",
    "data.head()"
   ]
  },
  {
   "cell_type": "code",
   "execution_count": 174,
   "metadata": {},
   "outputs": [],
   "source": [
    "#drop cols that aren't relevant to task. We only need to keep State Name and count of births cols\n",
    "data=data.drop([\"Id\",\"Unnamed: 0\", \"Name\", \"Year\", \"Gender\"],axis=1)"
   ]
  },
  {
   "cell_type": "code",
   "execution_count": 175,
   "metadata": {},
   "outputs": [],
   "source": [
    "#create new dataframe, with births grouped by state\n",
    "state_data = data.groupby([\"State\"]).count().sort_values(by=\"Count\", ascending=False)"
   ]
  },
  {
   "cell_type": "code",
   "execution_count": 176,
   "metadata": {},
   "outputs": [],
   "source": [
    "#reset the index so the state names can be used in plots, and rename the counts column for clarity\n",
    "state_data.reset_index(inplace=True)\n",
    "state_data = state_data.rename(columns = {'Count':'Total_Births'})\n"
   ]
  },
  {
   "cell_type": "code",
   "execution_count": 179,
   "metadata": {},
   "outputs": [
    {
     "data": {
      "text/plain": [
       "'CA'"
      ]
     },
     "execution_count": 179,
     "metadata": {},
     "output_type": "execute_result"
    }
   ],
   "source": [
    "#display the state with highest births\n",
    "state_data.iloc[state_data[\"Total_Births\"].idxmax()][\"State\"]"
   ]
  },
  {
   "cell_type": "code",
   "execution_count": 115,
   "metadata": {
    "scrolled": false
   },
   "outputs": [
    {
     "data": {
      "text/plain": [
       "<AxesSubplot:xlabel='State', ylabel='Total_Births'>"
      ]
     },
     "execution_count": 115,
     "metadata": {},
     "output_type": "execute_result"
    },
    {
     "data": {
      "image/png": "[encoded data removed]",
      "text/plain": [
       "<Figure size 2160x720 with 1 Axes>"
      ]
     },
     "metadata": {
      "needs_background": "light"
     },
     "output_type": "display_data"
    }
   ],
   "source": [
    "#use seaborn to plot births by state for stakeholders\n",
    "plt.figure(figsize=(30,10))\n",
    "sns.barplot(x='State',y=\"Total_Births\",data=state_data)"
   ]
  },
  {
   "cell_type": "markdown",
   "metadata": {},
   "source": [
    "<strong> The state with most births was California. <strong>"
   ]
  },
  {
   "cell_type": "markdown",
   "metadata": {},
   "source": [
    "_______________________________\n",
    "## 12/22/2021 Question\n",
    "\n",
    "### Question\n",
    "\n",
    "Suppose you're provided two tables, as shown below. One table contains the price for a given product in a given region, while another contains sales for the past week. Given the two tables, write a SQL query to pull the total earnings for each product/region combination.\n",
    "\n",
    "Table: prices \n",
    "    \n",
    "region, product, price <br>\n",
    "Americas, Pepsi, 2.2 <br>\n",
    "EMEA, Pepsi, 1.8 <br>\n",
    "APAC, Pepsi, 1.5 <br>\n",
    "Americas, Coke, 2.5 <br>\n",
    "EMEA, Coke, 2.0 <br>\n",
    "APAC, Coke, 1.8 <br>\n",
    "    \n",
    "    \n",
    "Table: sales \n",
    "    \n",
    "region\tproduct\tnum_sales\n",
    "Americas,\tPepsi,\t20 <br>\n",
    "EMEA,\t    Pepsi,\t25 <br>\n",
    "APAC,\t    Pepsi,\t22 <br>\n",
    "Americas,\tCoke,\t30 <br>\n",
    "EMEA,\t    Coke,\t10 <br>\n",
    "APAC,\t    Coke,\t13 <br>\n",
    "\n",
    "### Approach\n",
    "\n",
    "In this problem, we want to aggregate the sales and price for each region and product combination. To do this we will:\n",
    "- join the tables. this will be an inner join on the condition that both the region and product columns in each table are matching\n",
    "- the third column in this joined table will be the result of multiplying product price by num_sales for each region/product row"
   ]
  },
  {
   "cell_type": "markdown",
   "metadata": {},
   "source": [
    "This Jupyter notebook only supports python, but the SQL code would be:\n",
    "\n",
    "SELECT prices.region, prices.product, sum(prices.price*sales.num_sales) <br>\n",
    "FROM prices join sales <br>\n",
    "ON prices.region=sales.region and prices.product=sales.product <br>\n",
    "GROUP BY prices.region, prices.product \n",
    "\n",
    "Similarly, the above can be done in Pandas. The code for this is below:"
   ]
  },
  {
   "cell_type": "code",
   "execution_count": 6,
   "metadata": {},
   "outputs": [],
   "source": [
    "import pandas as pd"
   ]
  },
  {
   "cell_type": "code",
   "execution_count": 15,
   "metadata": {},
   "outputs": [],
   "source": [
    "prices = pd.read_csv(\"./Data/Prices.csv\")\n",
    "sales = pd.read_csv(\"./Data/Sales.csv\")"
   ]
  },
  {
   "cell_type": "code",
   "execution_count": 16,
   "metadata": {},
   "outputs": [],
   "source": [
    "total_earnings = pd.merge(prices, sales,  how='inner', left_on=['region','product'], right_on = ['region','product'])"
   ]
  },
  {
   "cell_type": "code",
   "execution_count": 17,
   "metadata": {},
   "outputs": [],
   "source": [
    "total_earnings[\"total_earnings\"] = total_earnings[\"price\"]*total_earnings[\"num_sales\"]"
   ]
  },
  {
   "cell_type": "code",
   "execution_count": 20,
   "metadata": {},
   "outputs": [
    {
     "data": {
      "text/html": [
       "<div>\n",
       "<style scoped>\n",
       "    .dataframe tbody tr th:only-of-type {\n",
       "        vertical-align: middle;\n",
       "    }\n",
       "\n",
       "    .dataframe tbody tr th {\n",
       "        vertical-align: top;\n",
       "    }\n",
       "\n",
       "    .dataframe thead th {\n",
       "        text-align: right;\n",
       "    }\n",
       "</style>\n",
       "<table border=\"1\" class=\"dataframe\">\n",
       "  <thead>\n",
       "    <tr style=\"text-align: right;\">\n",
       "      <th></th>\n",
       "      <th>region</th>\n",
       "      <th>product</th>\n",
       "      <th>total_earnings</th>\n",
       "    </tr>\n",
       "  </thead>\n",
       "  <tbody>\n",
       "    <tr>\n",
       "      <th>0</th>\n",
       "      <td>Americas</td>\n",
       "      <td>Pepsi</td>\n",
       "      <td>44.0</td>\n",
       "    </tr>\n",
       "    <tr>\n",
       "      <th>1</th>\n",
       "      <td>EMEA</td>\n",
       "      <td>Pepsi</td>\n",
       "      <td>45.0</td>\n",
       "    </tr>\n",
       "    <tr>\n",
       "      <th>2</th>\n",
       "      <td>APAC</td>\n",
       "      <td>Pepsi</td>\n",
       "      <td>33.0</td>\n",
       "    </tr>\n",
       "    <tr>\n",
       "      <th>3</th>\n",
       "      <td>Americas</td>\n",
       "      <td>Coke</td>\n",
       "      <td>75.0</td>\n",
       "    </tr>\n",
       "    <tr>\n",
       "      <th>4</th>\n",
       "      <td>EMEA</td>\n",
       "      <td>Coke</td>\n",
       "      <td>20.0</td>\n",
       "    </tr>\n",
       "    <tr>\n",
       "      <th>5</th>\n",
       "      <td>APAC</td>\n",
       "      <td>Coke</td>\n",
       "      <td>23.4</td>\n",
       "    </tr>\n",
       "  </tbody>\n",
       "</table>\n",
       "</div>"
      ],
      "text/plain": [
       "     region product  total_earnings\n",
       "0  Americas   Pepsi            44.0\n",
       "1      EMEA   Pepsi            45.0\n",
       "2      APAC   Pepsi            33.0\n",
       "3  Americas    Coke            75.0\n",
       "4      EMEA    Coke            20.0\n",
       "5      APAC    Coke            23.4"
      ]
     },
     "execution_count": 20,
     "metadata": {},
     "output_type": "execute_result"
    }
   ],
   "source": [
    "total_earnings[[\"region\",\"product\",\"total_earnings\"]]"
   ]
  },
  {
   "cell_type": "markdown",
   "metadata": {},
   "source": [
    "-----------------------\n",
    "## 12/20/2021 Question\n",
    "\n",
    "World Leader Exits\n",
    "\n",
    "Suppose you have the following dataset*, which is a list of leaders for all independent states in the world as outlined in Gleditsch and Ward.\n",
    "\n",
    "With this data, plot the number of leaders by their exit code ('exitcode' in data) and the year that their rule ended ('endyear' in the data). You can represent this in a stacked bar chart, with the x-axis showing the end year and the y-axis showing the count of leaders by exitcode represented as a stacked bar chart.\n",
    "\n",
    "### Approach\n",
    "\n",
    "For this question I will:\n",
    "- drop irreleavnt cols. we only need the enddate and the exitcode cols to answer the question\n",
    "- get the year from the enddate col by extracting the first four chars of the values\n",
    "- pivot the table. The rows will be by year, and y will be by exit code so each code has its own column and can be graphed more efficiently and viewed in the dataset more clearly by year\n",
    "- graph the subsequent data in a stacked bar plot"
   ]
  },
  {
   "cell_type": "code",
   "execution_count": 15,
   "metadata": {},
   "outputs": [],
   "source": [
    "import pandas as pd\n",
    "import seaborn as sns\n",
    "import matplotlib.pyplot as plt"
   ]
  },
  {
   "cell_type": "code",
   "execution_count": 57,
   "metadata": {},
   "outputs": [],
   "source": [
    "#import data\n",
    "world_leaders = pd.read_csv(\"./Data/2021_12_20_DDI_Dataset_Political_Leaders_political_leader.csv\")"
   ]
  },
  {
   "cell_type": "code",
   "execution_count": 58,
   "metadata": {
    "scrolled": true
   },
   "outputs": [],
   "source": [
    "#extract relevant cols only\n",
    "world_leaders = world_leaders[[\"enddate\",\"exitcode\"]]"
   ]
  },
  {
   "cell_type": "code",
   "execution_count": 59,
   "metadata": {},
   "outputs": [],
   "source": [
    "#convert enddate data so that only the year is shown\n",
    "length=len(world_leaders)\n",
    "for i in range(length):\n",
    "    world_leaders[\"enddate\"][i]=world_leaders[\"enddate\"][i][:4]"
   ]
  },
  {
   "cell_type": "code",
   "execution_count": 61,
   "metadata": {},
   "outputs": [],
   "source": [
    "#pivot the table such that rows/index is by the exit year, cols are by exitcode, and values are the count of each code per relevant year\n",
    "df_plot2 = world_leaders.groupby(['enddate', 'exitcode']).size().reset_index().pivot(columns='exitcode', index='enddate',values=0)\n"
   ]
  },
  {
   "cell_type": "code",
   "execution_count": 62,
   "metadata": {},
   "outputs": [
    {
     "data": {
      "text/plain": [
       "<AxesSubplot:xlabel='enddate'>"
      ]
     },
     "execution_count": 62,
     "metadata": {},
     "output_type": "execute_result"
    },
    {
     "data": {
      "text/plain": [
       "<Figure size 2880x720 with 0 Axes>"
      ]
     },
     "metadata": {},
     "output_type": "display_data"
    },
    {
     "data": {
      "image/png": "[encoded data removed]",
      "text/plain": [
       "<Figure size 2160x720 with 1 Axes>"
      ]
     },
     "metadata": {},
     "output_type": "display_data"
    }
   ],
   "source": [
    "#plot data with seaborn as a stacked bar plot\n",
    "sns.set(rc = {'figure.figsize':(30,10)})\n",
    "df_plot2.plot(kind='bar', stacked=True)"
   ]
  },
  {
   "cell_type": "markdown",
   "metadata": {},
   "source": [
    "-------------------\n",
    "\n",
    "## 12/08/2021 Question\n",
    "\n",
    "Suppose you're consulting for a school district, and the head of the school district thinks the students have above average intelligence. A random sample of thirty students have a mean IQ score of 112. Is there sufficient evidence to support the head's claim? You can assume the mean IQ score across the population of all students (e.g. including students outside the head's school district) is 100, with a standard deviation of 15. \n",
    "\n",
    "### Approach\n",
    "\n",
    "- Run a one sample T test and determine the resultant p value. Assume an alpha level of 5%\n",
    "\n",
    "### Solution\n",
    "\n",
    "Based on the problem statement, I can run a one sample T test to compare a sample to a mean population value. In this case, the sample mean is 112, N is 30, and SD is 15. The hypothetical mean is 100. Degrees of freedom are 30-1 = 29.\n",
    "\n",
    "Null hypothesis: the IQ of the two groups is the same\n",
    "Alternate hypothesis: the IQ of the students in question is higher than the mean by 12 points"
   ]
  },
  {
   "cell_type": "markdown",
   "metadata": {},
   "source": [
    "t = 112 - 100 / (15 / sqrt(30)) = 4.38\n",
    "\n",
    "Using a one tailed T test distribution, using an alpha of .05 and degrees of freedom of 29 the corresponding value is 1.699. Since our value of 4.38 is larger than 1.699, we can reject the null hypothesis and conclude that the students in question do have above average IQ."
   ]
  }
 ],
 "metadata": {
  "kernelspec": {
   "display_name": "Python 3",
   "language": "python",
   "name": "python3"
  },
  "language_info": {
   "codemirror_mode": {
    "name": "ipython",
    "version": 3
   },
   "file_extension": ".py",
   "mimetype": "text/x-python",
   "name": "python",
   "nbconvert_exporter": "python",
   "pygments_lexer": "ipython3",
   "version": "3.8.5"
  }
 },
 "nbformat": 4,
 "nbformat_minor": 4
}
