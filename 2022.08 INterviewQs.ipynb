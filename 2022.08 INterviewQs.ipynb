{
 "cells": [
  {
   "cell_type": "markdown",
   "id": "4a21772d",
   "metadata": {},
   "source": [
    "## 08/17 Question\n",
    "\n",
    "Suppose you're analyzing the utilization of a small parking lot you invested in. Customers enter the automated lot, receive a ticket, and select one of 20 spots at random (e.g. they are not assigned). Upon leaving, customers pay in relation to their time in the lot.\n",
    "\n",
    " \n",
    "    \n",
    "You have collected the following dataset, which shows spot utilization for a month. Each # in the dataset corresponds to a spot # (1-20) and the # of times it appears in a row corresponds to the frequency of how many customers parked in that spot.\n",
    "\n",
    "\n",
    "    \n",
    "Using all of this information, write code to visualize the  Probability Mass Function (PMF) of your customers' spot selections. Your resultant chart should show each spot # (1-20) along with the probability of that spot being chosen based on your dataset. You can ignore seasonality and assume this month represents a standard month of parking at your lot.\n",
    "\n",
    "### Approach\n",
    "\n",
    "To solve this problem I will:\n",
    "- read in the data\n",
    "- determine the total number of cars parked in this month, by finding the length of the dataset\n",
    "- use pandas to count the number of times each spot was parked in and turn this into a dataframe for further use\n",
    "- create a frequency variable that divides the times a spot was used by total cars that parked in the lot. This will represent the probability that a given spot is parked in\n",
    "- use seaborn to visualize this frequency per spot in a PMF via a barplot\n",
    "\n",
    "### Solution"
   ]
  },
  {
   "cell_type": "code",
   "execution_count": 1,
   "id": "8bcc22f2",
   "metadata": {},
   "outputs": [],
   "source": [
    "import pandas as pd\n",
    "import numpy as np\n",
    "import seaborn as sns"
   ]
  },
  {
   "cell_type": "code",
   "execution_count": 41,
   "id": "ff506745",
   "metadata": {
    "scrolled": true
   },
   "outputs": [],
   "source": [
    "df_08_17 = pd.read_csv(\"Data/2022_08_17_data.csv\")"
   ]
  },
  {
   "cell_type": "code",
   "execution_count": 38,
   "id": "d9ba13f1",
   "metadata": {},
   "outputs": [],
   "source": [
    "total_cars = len(df_08_17)"
   ]
  },
  {
   "cell_type": "code",
   "execution_count": 39,
   "id": "e370e11a",
   "metadata": {
    "scrolled": true
   },
   "outputs": [],
   "source": [
    "df_08_17_aggregated = df_08_17.value_counts().rename_axis('Spot_Number').reset_index(name='counts')"
   ]
  },
  {
   "cell_type": "code",
   "execution_count": 40,
   "id": "62853507",
   "metadata": {
    "scrolled": true
   },
   "outputs": [],
   "source": [
    "df_08_17_aggregated['frequency'] = df_08_17_aggregated.counts/total_cars"
   ]
  },
  {
   "cell_type": "code",
   "execution_count": 42,
   "id": "e75306a1",
   "metadata": {},
   "outputs": [
    {
     "data": {
      "text/plain": [
       "<AxesSubplot:xlabel='Spot_Number', ylabel='frequency'>"
      ]
     },
     "execution_count": 42,
     "metadata": {},
     "output_type": "execute_result"
    },
    {
     "data": {
      "image/png": "[encoded data removed]",
      "text/plain": [
       "<Figure size 432x288 with 1 Axes>"
      ]
     },
     "metadata": {
      "needs_background": "light"
     },
     "output_type": "display_data"
    }
   ],
   "source": [
    "sns.barplot(x=df_08_17_aggregated.Spot_Number, y=df_08_17_aggregated.frequency)"
   ]
  },
  {
   "cell_type": "markdown",
   "id": "8e921d35",
   "metadata": {},
   "source": [
    "## 08/15 Question\n",
    "\n",
    "What is Bayes’ Theorem? How is it useful in a machine learning context?\n",
    "\n",
    "Bayes' Theroem is a method used to determine the conditional probability that an event will occur. For example, determining the probability that someone will live to be 80 years old given that they are alreadu 70 years old. Having additional conditions in such a scenario can lead to more accurate results/predictions.\n",
    "\n",
    "In machine learning there is an algorithm called the Naive Bayes Classifier, a simplified version of the Bayes Theorem. It is used as a classification algorithm. The Naive Bayes method involves considering each class value in a dataset to be independent of one another. This allows for us to compute the desired conditional probability in a simpler, more efficient manner. This yields more efficient predictions and less computing power required when training and using machine learning models  "
   ]
  },
  {
   "cell_type": "markdown",
   "id": "6092186f",
   "metadata": {},
   "source": [
    "## 08/12 Question\n",
    "\n",
    "Given the following Python function, write out what the output would be at each stage:\n",
    "\n",
    "\n",
    "    \n",
    "    \n",
    "n = 1\n",
    "    \n",
    "\n",
    "while n < 3:\n",
    "    \n",
    "\n",
    "    m = n + 1\n",
    "    \n",
    "\n",
    "    while m < 4:\n",
    "    \n",
    "\n",
    "        m += 1\n",
    "    \n",
    "\n",
    "        print('output:')\n",
    "    \n",
    "\n",
    "        print(m)\n",
    "    \n",
    "\n",
    "    n+= 1\n",
    "\n",
    "### Solution\n",
    "\n",
    "Output list:\n",
    "- output: 3 ; when entering the nested while loop for the first time, n=1 so m=2. before printing, m increments 1 for a value of 3\n",
    "- output: 4 ; after the above, m is still less than 4 so the nested while loop runs again. m increments by 1 to 4 so the next output value is 4 \n",
    "- output: 4 ; now that m isn't less than 4, we exit the nested loop. n increments by 1 to a value of 2 and thus m is equal to 3. entering the nested loop, m increments once more to a value of 4 and this is output.\n",
    "\n",
    "Now we exit the nested loop and increment n again to a value of 3, which breaks out of the outer loop condition n<3 and thus we are done with this function / output sequence"
   ]
  },
  {
   "cell_type": "markdown",
   "id": "8d9b2fc8",
   "metadata": {},
   "source": [
    "## 8/10 Question\n",
    "\n",
    "You are given the below tables, showing Store, Product, and Sales information for a chain of grocery stores. The columns are labeled in such a way that you should be able to interpret what each field is showing.\n",
    "    \n",
    "Store\n",
    "\n",
    "\n",
    "|store_id\t|location|\n",
    "|---|---|\n",
    "|91110|\tNew York|\n",
    "|99525|\tLos Angeles|\n",
    "|37340|\tTokyo|\n",
    "|32016|\tDetroit|\n",
    "|57507|\tLondon|\n",
    "\n",
    "Product\n",
    "\n",
    "|product_id|\tproduct_name\t|price_usd|\n",
    "|---|---|---|\n",
    "|31331|\tApples|\t2|\n",
    "|34611|\tLettuce\t|3|\n",
    "|49760|\tChicken|\t5|\n",
    "|26583|\tLemons|\t1|\n",
    "|20267|\tBread\t|2|\n",
    "    \n",
    "Sales\n",
    "\n",
    "|sale_id|\tproduct_id|\tstore_id\t|date|\n",
    "|---|---|---|---|\n",
    "|1|\t31331|\t91110|\t02/20/2020|\n",
    "|1|\t31331|\t91110|\t02/20/2020|\n",
    "|2|\t34611|\t57507|\t02/20/2020|\n",
    "|3|\t26583|\t37340|\t02/20/2020|\n",
    "|3|\t34611|\t32016|\t02/20/2020|\n",
    "|3|\t20267|\t99525|\t02/21/2020|\n",
    "|4|\t31331|\t99525|\t02/21/2020|\n",
    "|5|\t49760|\t99525|\t02/21/2020|\n",
    "|6|\t34611|\t57507|\t02/21/2020|\n",
    "|7|\t31331|\t91110|\t02/21/2020|\n",
    "\n",
    "    \n",
    "\n",
    "    \n",
    "Using the tables above, write a SQL query to return the number of sales as well as the average sale price (in dollars) for a given location.\n",
    "\n",
    "\n",
    "    \n",
    "Your output should return the following columns:\n",
    "\n",
    "\n",
    "    \n",
    "|location|\tnumber_sales\t|avg_sale_price|\n",
    "|---|---|---|\n",
    "|X\t|Y\t|Z|\n",
    "|A\t|B\t|C|\n",
    "\n",
    "### Approach\n",
    "\n",
    "To solve this problem I will write a query to do as follows:\n",
    "- write a subquery, which groups the data by sale id and store id and summing the order total for this grouping. This will yield a table showing the total for each sale at each store\n",
    "- write an outer query, grouping the data by location. I will add columns to count the number of sales and the average amount of each sale\n",
    "\n",
    "### Solution\n",
    "\n",
    "select location, count(sale_id) as number_sales,avg(sale_price) as avg_sale_price <br>\n",
    "from(<br>\n",
    "select location,sale_id, sum(price_usd) as sale_price<br>\n",
    "from store<br>\n",
    "join sales<br>\n",
    "on Store.store_id = Sales.store_id<br>\n",
    "join product<br>\n",
    "on Sales.product_id = Product.product_id<br>\n",
    "group by sale_id,sales.store_id)<br>\n",
    "group by location<br>"
   ]
  },
  {
   "cell_type": "markdown",
   "id": "eac80ac7",
   "metadata": {},
   "source": [
    "## 8/8 Question\n",
    "\n",
    "Below is a snippet from a table that contains information about employees that work at Company XYZ:\n",
    "    \n",
    "\n",
    "    \n",
    "\n",
    "|employee_name|\temployee_id|\tdate_joined|\tage|\tyrs_of_experience|\n",
    "|---|---|---|---|---|\n",
    "|Andy|\t123456|\t2015-02-15|\t45|\t24|\n",
    "|Beth|\t789456|\tNaN|\t36|\t15|\n",
    "|Cindy|\t654123|\t2017-05-16|\t34|\t14|\n",
    "|Dale|\t963852|\t2018-01-15|\t25|\t4|\n",
    "\n",
    "    \n",
    "    \n",
    "\n",
    "    \n",
    "Company XYZ recently migrated database systems causing some of the date_joined records to be NULL. You're told by an analyst in human resources NULL records for the date_joined field indicates the employees joined prior to 2010. You also find out there are multiple employees with the same name and duplicate records for some employees.\n",
    "\n",
    "   \n",
    "    \n",
    "    \n",
    "Given this, write code to find the number of employees that joined each month. You can group all of the null values as Dec 1, 2009.\n",
    "\n",
    "### Explanation\n",
    "\n",
    "To solve this problem I will:\n",
    "- import the data into a dataframe to illustrate this code on the provided data\n",
    "- remove rows where there are duplicate employee_id numbers (assuming that duplicates, as stated in the above, will have duplicate id values)\n",
    "- remove nulls from the date field\n",
    "- create new columns for month joined and years joined for a given employee\n",
    "- group the data by year and month joined, and count the number of instances of each combination\n",
    "\n",
    "### Solution"
   ]
  },
  {
   "cell_type": "code",
   "execution_count": 2,
   "id": "7052cfcc",
   "metadata": {},
   "outputs": [],
   "source": [
    "import pandas as pd\n",
    "import numpy as np"
   ]
  },
  {
   "cell_type": "code",
   "execution_count": 31,
   "id": "9f27cab6",
   "metadata": {},
   "outputs": [
    {
     "data": {
      "text/html": [
       "<div>\n",
       "<style scoped>\n",
       "    .dataframe tbody tr th:only-of-type {\n",
       "        vertical-align: middle;\n",
       "    }\n",
       "\n",
       "    .dataframe tbody tr th {\n",
       "        vertical-align: top;\n",
       "    }\n",
       "\n",
       "    .dataframe thead th {\n",
       "        text-align: right;\n",
       "    }\n",
       "</style>\n",
       "<table border=\"1\" class=\"dataframe\">\n",
       "  <thead>\n",
       "    <tr style=\"text-align: right;\">\n",
       "      <th></th>\n",
       "      <th>employee_name</th>\n",
       "      <th>employee_id</th>\n",
       "      <th>date_joined</th>\n",
       "      <th>age</th>\n",
       "      <th>yrs_of_experience</th>\n",
       "      <th>month_joined</th>\n",
       "      <th>year_joined</th>\n",
       "    </tr>\n",
       "  </thead>\n",
       "  <tbody>\n",
       "    <tr>\n",
       "      <th>0</th>\n",
       "      <td>Andy</td>\n",
       "      <td>123456</td>\n",
       "      <td>2015-02-05</td>\n",
       "      <td>45</td>\n",
       "      <td>24</td>\n",
       "      <td>2</td>\n",
       "      <td>2015</td>\n",
       "    </tr>\n",
       "    <tr>\n",
       "      <th>1</th>\n",
       "      <td>Beth</td>\n",
       "      <td>789456</td>\n",
       "      <td>2009-12-01</td>\n",
       "      <td>36</td>\n",
       "      <td>15</td>\n",
       "      <td>12</td>\n",
       "      <td>2009</td>\n",
       "    </tr>\n",
       "    <tr>\n",
       "      <th>2</th>\n",
       "      <td>Cindy</td>\n",
       "      <td>654123</td>\n",
       "      <td>2017-05-16</td>\n",
       "      <td>34</td>\n",
       "      <td>14</td>\n",
       "      <td>5</td>\n",
       "      <td>2017</td>\n",
       "    </tr>\n",
       "    <tr>\n",
       "      <th>3</th>\n",
       "      <td>Dale</td>\n",
       "      <td>963852</td>\n",
       "      <td>2018-01-15</td>\n",
       "      <td>25</td>\n",
       "      <td>4</td>\n",
       "      <td>1</td>\n",
       "      <td>2018</td>\n",
       "    </tr>\n",
       "  </tbody>\n",
       "</table>\n",
       "</div>"
      ],
      "text/plain": [
       "  employee_name  employee_id date_joined  age  yrs_of_experience  \\\n",
       "0          Andy       123456  2015-02-05   45                 24   \n",
       "1          Beth       789456  2009-12-01   36                 15   \n",
       "2         Cindy       654123  2017-05-16   34                 14   \n",
       "3          Dale       963852  2018-01-15   25                  4   \n",
       "\n",
       "   month_joined  year_joined  \n",
       "0             2         2015  \n",
       "1            12         2009  \n",
       "2             5         2017  \n",
       "3             1         2018  "
      ]
     },
     "execution_count": 31,
     "metadata": {},
     "output_type": "execute_result"
    }
   ],
   "source": [
    "data = {'employee_name': [\"Andy\",\"Beth\",\"Cindy\",\"Dale\"], 'employee_id': [123456,789456,654123,963852],\"date_joined\":[\"02-05-2015\",\"\",\"05-16-2017\",\"01-15-2018\"],\"age\":[45,36,34,25], \"yrs_of_experience\":[24,15,14,4]}\n",
    "august_eight_df = pd.DataFrame.from_dict(data)\n",
    "august_eight_df.drop_duplicates(subset=['employee_id'])\n",
    "august_eight_df['date_joined']=pd.to_datetime(august_eight_df['date_joined']).replace(np.nan,\"12-01-2009\")\n",
    "august_eight_df['month_joined']=pd.DatetimeIndex(august_eight_df['date_joined']).month\n",
    "august_eight_df['year_joined']=pd.DatetimeIndex(august_eight_df['date_joined']).year\n",
    "august_eight_df"
   ]
  },
  {
   "cell_type": "code",
   "execution_count": 34,
   "id": "be5638c2",
   "metadata": {},
   "outputs": [
    {
     "data": {
      "text/html": [
       "<div>\n",
       "<style scoped>\n",
       "    .dataframe tbody tr th:only-of-type {\n",
       "        vertical-align: middle;\n",
       "    }\n",
       "\n",
       "    .dataframe tbody tr th {\n",
       "        vertical-align: top;\n",
       "    }\n",
       "\n",
       "    .dataframe thead th {\n",
       "        text-align: right;\n",
       "    }\n",
       "</style>\n",
       "<table border=\"1\" class=\"dataframe\">\n",
       "  <thead>\n",
       "    <tr style=\"text-align: right;\">\n",
       "      <th></th>\n",
       "      <th>month_joined</th>\n",
       "      <th>year_joined</th>\n",
       "      <th>Number of Employees Joined</th>\n",
       "    </tr>\n",
       "  </thead>\n",
       "  <tbody>\n",
       "    <tr>\n",
       "      <th>0</th>\n",
       "      <td>1</td>\n",
       "      <td>2018</td>\n",
       "      <td>1</td>\n",
       "    </tr>\n",
       "    <tr>\n",
       "      <th>1</th>\n",
       "      <td>2</td>\n",
       "      <td>2015</td>\n",
       "      <td>1</td>\n",
       "    </tr>\n",
       "    <tr>\n",
       "      <th>2</th>\n",
       "      <td>5</td>\n",
       "      <td>2017</td>\n",
       "      <td>1</td>\n",
       "    </tr>\n",
       "    <tr>\n",
       "      <th>3</th>\n",
       "      <td>12</td>\n",
       "      <td>2009</td>\n",
       "      <td>1</td>\n",
       "    </tr>\n",
       "  </tbody>\n",
       "</table>\n",
       "</div>"
      ],
      "text/plain": [
       "   month_joined  year_joined  Number of Employees Joined\n",
       "0             1         2018                           1\n",
       "1             2         2015                           1\n",
       "2             5         2017                           1\n",
       "3            12         2009                           1"
      ]
     },
     "execution_count": 34,
     "metadata": {},
     "output_type": "execute_result"
    }
   ],
   "source": [
    "august_eight_df.groupby(['month_joined', 'year_joined']).size().reset_index(name='Number of Employees Joined')"
   ]
  },
  {
   "cell_type": "code",
   "execution_count": null,
   "id": "1a4af958",
   "metadata": {},
   "outputs": [],
   "source": []
  },
  {
   "cell_type": "code",
   "execution_count": null,
   "id": "172cf688",
   "metadata": {},
   "outputs": [],
   "source": []
  },
  {
   "cell_type": "markdown",
   "id": "872a6e3a",
   "metadata": {},
   "source": [
    "## 08/06 Question\n",
    "\n",
    "Suppose you're analyzing a population of 100,000 people, and you're trying to understand life expectancy. Within this population of 100,000 people, 65% can expect to live to the age of 70, while 25% can expect to live to age 80. Given that a person is already 70, what is the probability that they live to the age 80? \n",
    "\n",
    "### Approach\n",
    "\n",
    "To solve this problem, I will use conditional probability with the given information. The basic formula is: P(A|B) = P(B|A)*P(B) / P(A)"
   ]
  },
  {
   "cell_type": "markdown",
   "id": "460e9776",
   "metadata": {},
   "source": [
    "P(live to 80 | already 70) = P(live to 70 | already 80) \\* P(live to 80) / P(live to 70)\n",
    "P(live to 80 | already 70) = 1\\*0.25/0.65 = .3846\n"
   ]
  },
  {
   "cell_type": "markdown",
   "id": "92fa6819",
   "metadata": {},
   "source": [
    "## 08/03 Question\n",
    "\n",
    "Write a function that can take in a text file and return the number of characters in the file categorized by:\n",
    "\n",
    "- alphabetic\n",
    "- numeric\n",
    "- other non space characters\n",
    "\n",
    "The input to the function will be a text file (you can assume we scane the whole file).\n",
    "\n",
    "### Approach\n",
    "\n",
    "To solve this problem, I will loop through each character in the string. For each type of character, I will initiate a counter and add to the counter if the character matches the right type.\n",
    "\n",
    "### Solution"
   ]
  },
  {
   "cell_type": "code",
   "execution_count": 43,
   "id": "dee700a9",
   "metadata": {},
   "outputs": [],
   "source": [
    "def char_counts(txt):\n",
    "    alpha_counter, num_counter,other_counter = 0,0,0\n",
    "    for char in txt:\n",
    "        if char.isalpha():\n",
    "            alpha_counter+=1\n",
    "        elif char.isnumeric():\n",
    "            num_counter+=1\n",
    "        elif not char.isspace():\n",
    "            other_counter+=1\n",
    "    return alpha_counter,num_counter,other_counter"
   ]
  },
  {
   "cell_type": "code",
   "execution_count": 51,
   "id": "3fdaf52d",
   "metadata": {
    "scrolled": true
   },
   "outputs": [
    {
     "data": {
      "text/plain": [
       "(2, 1, 0)"
      ]
     },
     "execution_count": 51,
     "metadata": {},
     "output_type": "execute_result"
    }
   ],
   "source": [
    "char_counts(\"h1 e\")"
   ]
  },
  {
   "cell_type": "markdown",
   "id": "2cb3949d",
   "metadata": {},
   "source": [
    "## 08/01 Question TODO\n",
    "\n",
    "Suppose you're working with a large conglomerate and are trying to aggregate revenue across all divisions to highlight the overall trend. The table you're querying off of is called allRevenue, sample schema is shown below.\n",
    "\n",
    "\n",
    "    \n",
    "\n",
    "    \n",
    "Table: allRevenue\n",
    "\n",
    "\n",
    "    \n",
    "|date|\trevenue\t|division|\n",
    "|---|---|---|\n",
    "|2018-01-20|\t15000000|\tchemicals|\n",
    "|2019-02-21|\t120000|\tagriculture|\n",
    "|2019-04-09|\t390900|\tpharma|\n",
    "\n",
    "    \n",
    "\n",
    "    \n",
    "Given the above, can you write a SQL query that calculates 4-quarter rolling average revenue, cut by each quarter? The output query should only have 2 columns: 'quarter' and 'revenue' (where revenue is the trailing 4-quarter average). You can assume you have access to a function similar to this."
   ]
  },
  {
   "cell_type": "code",
   "execution_count": null,
   "id": "1f9b36cf",
   "metadata": {},
   "outputs": [],
   "source": []
  }
 ],
 "metadata": {
  "kernelspec": {
   "display_name": "Python 3 (ipykernel)",
   "language": "python",
   "name": "python3"
  },
  "language_info": {
   "codemirror_mode": {
    "name": "ipython",
    "version": 3
   },
   "file_extension": ".py",
   "mimetype": "text/x-python",
   "name": "python",
   "nbconvert_exporter": "python",
   "pygments_lexer": "ipython3",
   "version": "3.8.12"
  }
 },
 "nbformat": 4,
 "nbformat_minor": 5
}
