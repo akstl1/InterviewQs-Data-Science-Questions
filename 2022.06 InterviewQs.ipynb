{
 "cells": [
  {
   "cell_type": "markdown",
   "id": "194a75a9",
   "metadata": {},
   "source": [
    "# 2022.06 InterviewQs"
   ]
  },
  {
   "cell_type": "code",
   "execution_count": 5,
   "id": "8d3115a8",
   "metadata": {},
   "outputs": [],
   "source": [
    "import pandas as pd\n",
    "import numpy as np"
   ]
  },
  {
   "cell_type": "markdown",
   "id": "44281d59",
   "metadata": {},
   "source": [
    "## 6/17 Question\n",
    "\n",
    "Suppose you are given a tuple containing ints and strings. Write a Python function to return the # of times a given element, n, appears in the tuple.\n",
    "\n",
    "For example, given the tuple below, where n=3, your function should return 4, since 3 appears 4 times in the tuple.\n",
    "\n",
    "input:\n",
    "\n",
    "n = 3\n",
    "    \n",
    "my_tuple = 2, 'my_string', 4, 3, 3, 3, 2, 3\n",
    "\n",
    "output:\n",
    "    \n",
    "4\n",
    "\n",
    "### Approach\n",
    "\n",
    "For this problem, I will use the built in count function to count the instances of n in the tuple. As an alternative solution, I will also write a function that uses a loop to go through the elements in the tuple and return the correct sum.\n",
    "\n",
    "### Solution"
   ]
  },
  {
   "cell_type": "code",
   "execution_count": 3,
   "id": "c26c8de8",
   "metadata": {},
   "outputs": [],
   "source": [
    "def count_tuple_element(tup,n):\n",
    "    return tup.count(n)\n",
    "\n",
    "def count_tuple_element2(tup,n):\n",
    "    count=0\n",
    "    for item in tup:\n",
    "        if item==n:\n",
    "            count+=1\n",
    "    return count"
   ]
  },
  {
   "cell_type": "markdown",
   "id": "7badf239",
   "metadata": {},
   "source": [
    "# 6/15 Question\n",
    "\n",
    "Suppose you are given the following table, containing information around total tonnage of trash for various landfills across various states. In other words, each row represents the total weight (in tons) of trash at a specific landfill site in a specific state.\n",
    "\n",
    "landfill_weights\n",
    "    \n",
    "|landfillID\t|weight\t|state\t|number_garbage_vehicles|\n",
    "|---|---|---|---|\n",
    "|12300\t|95\t|California\t1005|\n",
    "|12401\t|85\t|California\t850|\n",
    "|00992\t|105\t|New York\t1300|\n",
    "|00882\t|100\t|New York\t1000|\n",
    "|11100\t|55\t|Michigan\t580|\n",
    "|11201\t|75\t|Michigan\t700|\n",
    "|11207\t|60\t|Michigan\t500|\n",
    "       \n",
    "Using the above table, write a SQL query to return the landfill with the second highest amount of garbage (based on weight) for each state shown. You can assume each row represents a unique landfill (e.g. the weights shown are the total weights, and do not need further aggregation) and each weight happens to be unique (e.g. there are no ties).\n",
    "\n",
    "### Approach\n",
    "\n",
    "For this problem I will create a SQL query that:\n",
    "- selects all cols\n",
    "- generates a rank of landfills via the RANK function, partitioning over state and ordering by weight\n",
    "- filter the result so only the second ranked landfill from each state is returned\n",
    "\n",
    "### Solution \n",
    "\n",
    "select * from <br>\n",
    "(SELECT *, RANK () OVER ( PARTITION BY state ORDER BY weight DESC) AS landfill_rank\n",
    "FROM landfill_weights)<br>\n",
    "WHERE landfill_rank = 2<br>\n",
    "order by state"
   ]
  },
  {
   "cell_type": "markdown",
   "id": "9d3ba4c2",
   "metadata": {},
   "source": [
    "## 6/13 Question\n",
    "\n",
    "Suppose you have a dataframe, df, with the following records:\n",
    "\n",
    "|Age|\tFavorite Color|\tGrade|\tName|\n",
    "|---|---|---|---|\n",
    "|20\t|blue\t|88\t|Willard Morris|\n",
    "|19\t|blue\t|95\t|Al Jennings|\n",
    "|22\t|yellow\t|92\t|Omar Mullins|\n",
    "|21\t|green\t|70\t|Spencer McDaniel|\n",
    "\n",
    "The dataframe is showing information about students. Write code using Python Pandas to select the rows where the students' favorite color is green or yellow and their grade is between 85-95 (inclusive).\n",
    "\n",
    "### Approach\n",
    "\n",
    "For this problem, I will create the above dataset in Pandas, then use filtering functions to only select data with the correct color and grade ranges.\n",
    "\n",
    "### Solution"
   ]
  },
  {
   "cell_type": "code",
   "execution_count": 10,
   "id": "348cb616",
   "metadata": {},
   "outputs": [],
   "source": [
    "june_13_df = pd.DataFrame(data = [(20, 'blue', 88,'Willard Morris'), (19, 'blue', 95,'Al Jennings'), (22, 'yellow', 92,'Omar Mullins'),(21, 'green', 70,'Spencer McDaniel')], columns=[\"Age\",\"Favorite Color\", \"Grade\",\"Name\"])"
   ]
  },
  {
   "cell_type": "code",
   "execution_count": 21,
   "id": "7813c087",
   "metadata": {},
   "outputs": [],
   "source": [
    "june_13_df_final = june_13_df[(june_13_df[\"Favorite Color\"].isin(['green','yellow'])) & (june_13_df['Grade'].isin(range(85,96)))]"
   ]
  },
  {
   "cell_type": "code",
   "execution_count": 22,
   "id": "56f02e5d",
   "metadata": {},
   "outputs": [
    {
     "data": {
      "text/html": [
       "<div>\n",
       "<style scoped>\n",
       "    .dataframe tbody tr th:only-of-type {\n",
       "        vertical-align: middle;\n",
       "    }\n",
       "\n",
       "    .dataframe tbody tr th {\n",
       "        vertical-align: top;\n",
       "    }\n",
       "\n",
       "    .dataframe thead th {\n",
       "        text-align: right;\n",
       "    }\n",
       "</style>\n",
       "<table border=\"1\" class=\"dataframe\">\n",
       "  <thead>\n",
       "    <tr style=\"text-align: right;\">\n",
       "      <th></th>\n",
       "      <th>Age</th>\n",
       "      <th>Favorite Color</th>\n",
       "      <th>Grade</th>\n",
       "      <th>Name</th>\n",
       "    </tr>\n",
       "  </thead>\n",
       "  <tbody>\n",
       "    <tr>\n",
       "      <th>2</th>\n",
       "      <td>22</td>\n",
       "      <td>yellow</td>\n",
       "      <td>92</td>\n",
       "      <td>Omar Mullins</td>\n",
       "    </tr>\n",
       "  </tbody>\n",
       "</table>\n",
       "</div>"
      ],
      "text/plain": [
       "   Age Favorite Color  Grade          Name\n",
       "2   22         yellow     92  Omar Mullins"
      ]
     },
     "execution_count": 22,
     "metadata": {},
     "output_type": "execute_result"
    }
   ],
   "source": [
    "june_13_df_final"
   ]
  },
  {
   "cell_type": "code",
   "execution_count": null,
   "id": "35ce6769",
   "metadata": {},
   "outputs": [],
   "source": []
  }
 ],
 "metadata": {
  "kernelspec": {
   "display_name": "Python 3 (ipykernel)",
   "language": "python",
   "name": "python3"
  },
  "language_info": {
   "codemirror_mode": {
    "name": "ipython",
    "version": 3
   },
   "file_extension": ".py",
   "mimetype": "text/x-python",
   "name": "python",
   "nbconvert_exporter": "python",
   "pygments_lexer": "ipython3",
   "version": "3.8.12"
  }
 },
 "nbformat": 4,
 "nbformat_minor": 5
}
