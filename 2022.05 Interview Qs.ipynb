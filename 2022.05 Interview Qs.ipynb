{
 "cells": [
  {
   "cell_type": "markdown",
   "id": "b1b4db7b",
   "metadata": {},
   "source": [
    "# May 2022 InterviewQs"
   ]
  },
  {
   "cell_type": "code",
   "execution_count": 2,
   "id": "c5392523",
   "metadata": {},
   "outputs": [],
   "source": [
    "import pandas as pd\n",
    "import numpy as np\n",
    "import seaborn as sns"
   ]
  },
  {
   "cell_type": "markdown",
   "id": "17156af1",
   "metadata": {},
   "source": [
    "# 5/13 Question\n",
    "\n",
    " Suppose you're analyzing a population of 100,000 people, and you're trying to understand life expectancy. Within this population of 100,000 people, 75% can expect to live to the age of 70, while 45% can expect to live to age 80. Given that a person is 70, what is the probability that they live to the age 80? \n",
    " \n",
    " \n",
    "## Approach\n",
    "\n",
    "From Bayes' Therorum, we know that:\n",
    "\n",
    "P(A|B) = P(B|A)*P(A) / P(B)\n",
    "\n",
    "Let's consider A living to 80, and B living to 70 in this case.\n",
    "\n",
    "P(B | A) = P(living to 70 given you are 80). This is 1, because if you are 80 you have already lived to 70.\n",
    "P(A) is given as 45%, and P(B) is given as 75%.\n",
    "\n",
    "Thus: P(A|B) = 1*.45/.75 = 0.6"
   ]
  },
  {
   "cell_type": "code",
   "execution_count": null,
   "id": "1051bda0",
   "metadata": {},
   "outputs": [],
   "source": []
  },
  {
   "cell_type": "markdown",
   "id": "a8874f5b",
   "metadata": {},
   "source": [
    "# 5/11 Question\n",
    "\n",
    "Can you check if a given array containing n integers is  monotonic? Your function should return \"true\" if it is monotonic and \"false\" if it's not.\n",
    "\n",
    "\n",
    "    \n",
    "An array is monotonic if it is either monotone increasing or monotone decreasing. An array A is monotone increasing if for all i <= j, A[i] <= A[j]. An array A is monotone decreasing if for all i <= j, A[i] >= A[j].\n",
    "    \n",
    "## Approach\n",
    "\n",
    "For this problem I will create a function that will:\n",
    "- create two variables, one to track if an array position is lower than the next position, and vice versa\n",
    "- loop through the array, and add a point to one of the above variables depending on if array[i] is less or greater than array[i+1]\n",
    "- if both the increase and decrease variables have a non-zero value, the array is not monotonic so we should return False. Otherwise return True"
   ]
  },
  {
   "cell_type": "code",
   "execution_count": 120,
   "id": "1de52277",
   "metadata": {},
   "outputs": [],
   "source": [
    "def monotone_check(arr):\n",
    "    incr,decr=0,0\n",
    "    for i in range(len(arr)-1):\n",
    "        if arr[i]<arr[i+1]:\n",
    "            incr+=1\n",
    "        else:\n",
    "            decr+=1\n",
    "        if incr and decr:\n",
    "            return False\n",
    "    return True"
   ]
  },
  {
   "cell_type": "markdown",
   "id": "4c76ba6c",
   "metadata": {},
   "source": [
    "## 5/6 Question\n",
    "\n",
    "Suppose you have two tables, one called 'orders', and one called 'revenue', as shown below: \n",
    "    \n",
    "\n",
    "    \n",
    "\n",
    " Orders: \n",
    "\n",
    "\n",
    "|order_id|\tchannel|\tdate|\tmonth|\n",
    "|---|---|---|---|\n",
    "|0\t|1\t|Online\t|2018-09-01\t|September\n",
    "|1\t|2\t|Online\t|2018-09-03\t|September\n",
    "|2\t|3\t|In_store\t|2018-10-11\t|October\n",
    "|3\t|4\t|In_store\t|2018-08-21\t|August\n",
    "|4\t|5\t|Online\t|2018-08-13\t|August\n",
    "|5\t|6\t|Online\t|2018-10-29\t|October\n",
    "    \n",
    "\n",
    "    \n",
    " Revenue: \n",
    "\n",
    "\n",
    "    \n",
    "|order_id|\trevenue|\n",
    "|---|---|\n",
    "|0\t|1\t|100|\n",
    "|1\t|2\t|125|\n",
    "|2\t|3\t|200|\n",
    "|3\t|4\t|80|\n",
    "|4\t|5\t|200|\n",
    "|5\t|6\t|100|\n",
    "    \n",
    "\n",
    "    \n",
    "## Approach \n",
    "\n",
    " Using SQL, write a query to show the total revenue by channel for the months of September and October.\n",
    " \n",
    " select a.channel, a.month, sum(revenue) from <br>\n",
    " Orders a join Revenue b on a.order_id = b.order_id<br>\n",
    " GROUP BY a.channel, a.month"
   ]
  },
  {
   "cell_type": "markdown",
   "id": "79ec677e",
   "metadata": {},
   "source": [
    "# 5/4 Question \n",
    "\n",
    "Suppose we have selected a group of people to take a survey. 35% of the group like Uber, 20% like both Lyft and Uber, and 25% like neither Lyft nor Uber. Given this information, what percentage of the sample likes Lyft?\n",
    "\n",
    "From basic probability theory, we know that:\n",
    "P(A and B) = P(A)*P(B)\n",
    "\n",
    "In this case, let's consider A to be probability of liking Lyft and B probability of liking Uber. From the prompt we know that:\n",
    "\n",
    "P(A and B) = 20%\n",
    "P(B) = 35%\n",
    "\n",
    "Thus, P(A) = P(A and B) / P(B) = 20%/35% so:\n",
    "\n",
    "P(A) = 57%\n"
   ]
  },
  {
   "cell_type": "markdown",
   "id": "7f1268f4",
   "metadata": {},
   "source": [
    "# 5/2 Question\n",
    "\n",
    "Given the following dataset, can you create a decision tree to predict customer churn? \n",
    "\n",
    "For simplicity, you can set the maximum depth of the decision tree to 4. \n",
    "\n",
    "For the purpose of this exercise, you do not need to optimize the model. \n",
    "\n",
    "For this question, I will use Python's sk-learn tools to fit and train a decision tree:"
   ]
  },
  {
   "cell_type": "code",
   "execution_count": 5,
   "id": "a3e6d18a",
   "metadata": {},
   "outputs": [],
   "source": [
    "# import required libraries\n",
    "\n",
    "import matplotlib.pyplot as plt\n",
    "from sklearn.tree import DecisionTreeClassifier\n",
    "from sklearn.utils import shuffle\n",
    "from sklearn.model_selection import train_test_split\n",
    "from sklearn.metrics import confusion_matrix,plot_confusion_matrix,accuracy_score,precision_score,recall_score,f1_score\n",
    "from sklearn.preprocessing import OneHotEncoder"
   ]
  },
  {
   "cell_type": "code",
   "execution_count": 92,
   "id": "6de9df22",
   "metadata": {},
   "outputs": [],
   "source": [
    "#import data\n",
    "\n",
    "data_05_02 = pd.read_csv(\"https://raw.githubusercontent.com/erood/interviewqs.com_code_snippets/master/Datasets/teleco_user_data.csv\")"
   ]
  },
  {
   "cell_type": "code",
   "execution_count": 116,
   "id": "8a02a658",
   "metadata": {},
   "outputs": [],
   "source": [
    "# map target variable to be numeric, and TotalCharges to be of type float for modelling\n",
    "\n",
    "data_05_02.Churn = data_05_02.Churn.map({'No':0,'Yes':1})\n",
    "data_05_02.TotalCharges = data_05_02.TotalCharges.replace({'':'0'})\n",
    "data_05_02.TotalCharges = data_05_02.TotalCharges.replace({' ':'0'})\n",
    "data_05_02.TotalCharges = data_05_02.TotalCharges.astype(float)"
   ]
  },
  {
   "cell_type": "code",
   "execution_count": 94,
   "id": "93341425",
   "metadata": {
    "scrolled": false
   },
   "outputs": [
    {
     "data": {
      "text/html": [
       "<div>\n",
       "<style scoped>\n",
       "    .dataframe tbody tr th:only-of-type {\n",
       "        vertical-align: middle;\n",
       "    }\n",
       "\n",
       "    .dataframe tbody tr th {\n",
       "        vertical-align: top;\n",
       "    }\n",
       "\n",
       "    .dataframe thead th {\n",
       "        text-align: right;\n",
       "    }\n",
       "</style>\n",
       "<table border=\"1\" class=\"dataframe\">\n",
       "  <thead>\n",
       "    <tr style=\"text-align: right;\">\n",
       "      <th></th>\n",
       "      <th>customerID</th>\n",
       "      <th>gender</th>\n",
       "      <th>SeniorCitizen</th>\n",
       "      <th>Partner</th>\n",
       "      <th>Dependents</th>\n",
       "      <th>tenure</th>\n",
       "      <th>PhoneService</th>\n",
       "      <th>MultipleLines</th>\n",
       "      <th>InternetService</th>\n",
       "      <th>OnlineSecurity</th>\n",
       "      <th>...</th>\n",
       "      <th>DeviceProtection</th>\n",
       "      <th>TechSupport</th>\n",
       "      <th>StreamingTV</th>\n",
       "      <th>StreamingMovies</th>\n",
       "      <th>Contract</th>\n",
       "      <th>PaperlessBilling</th>\n",
       "      <th>PaymentMethod</th>\n",
       "      <th>MonthlyCharges</th>\n",
       "      <th>TotalCharges</th>\n",
       "      <th>Churn</th>\n",
       "    </tr>\n",
       "  </thead>\n",
       "  <tbody>\n",
       "    <tr>\n",
       "      <th>0</th>\n",
       "      <td>7590-VHVEG</td>\n",
       "      <td>Female</td>\n",
       "      <td>0</td>\n",
       "      <td>Yes</td>\n",
       "      <td>No</td>\n",
       "      <td>1</td>\n",
       "      <td>No</td>\n",
       "      <td>No phone service</td>\n",
       "      <td>DSL</td>\n",
       "      <td>No</td>\n",
       "      <td>...</td>\n",
       "      <td>No</td>\n",
       "      <td>No</td>\n",
       "      <td>No</td>\n",
       "      <td>No</td>\n",
       "      <td>Month-to-month</td>\n",
       "      <td>Yes</td>\n",
       "      <td>Electronic check</td>\n",
       "      <td>29.85</td>\n",
       "      <td>29.85</td>\n",
       "      <td>0</td>\n",
       "    </tr>\n",
       "    <tr>\n",
       "      <th>1</th>\n",
       "      <td>5575-GNVDE</td>\n",
       "      <td>Male</td>\n",
       "      <td>0</td>\n",
       "      <td>No</td>\n",
       "      <td>No</td>\n",
       "      <td>34</td>\n",
       "      <td>Yes</td>\n",
       "      <td>No</td>\n",
       "      <td>DSL</td>\n",
       "      <td>Yes</td>\n",
       "      <td>...</td>\n",
       "      <td>Yes</td>\n",
       "      <td>No</td>\n",
       "      <td>No</td>\n",
       "      <td>No</td>\n",
       "      <td>One year</td>\n",
       "      <td>No</td>\n",
       "      <td>Mailed check</td>\n",
       "      <td>56.95</td>\n",
       "      <td>1889.50</td>\n",
       "      <td>0</td>\n",
       "    </tr>\n",
       "    <tr>\n",
       "      <th>2</th>\n",
       "      <td>3668-QPYBK</td>\n",
       "      <td>Male</td>\n",
       "      <td>0</td>\n",
       "      <td>No</td>\n",
       "      <td>No</td>\n",
       "      <td>2</td>\n",
       "      <td>Yes</td>\n",
       "      <td>No</td>\n",
       "      <td>DSL</td>\n",
       "      <td>Yes</td>\n",
       "      <td>...</td>\n",
       "      <td>No</td>\n",
       "      <td>No</td>\n",
       "      <td>No</td>\n",
       "      <td>No</td>\n",
       "      <td>Month-to-month</td>\n",
       "      <td>Yes</td>\n",
       "      <td>Mailed check</td>\n",
       "      <td>53.85</td>\n",
       "      <td>108.15</td>\n",
       "      <td>1</td>\n",
       "    </tr>\n",
       "    <tr>\n",
       "      <th>3</th>\n",
       "      <td>7795-CFOCW</td>\n",
       "      <td>Male</td>\n",
       "      <td>0</td>\n",
       "      <td>No</td>\n",
       "      <td>No</td>\n",
       "      <td>45</td>\n",
       "      <td>No</td>\n",
       "      <td>No phone service</td>\n",
       "      <td>DSL</td>\n",
       "      <td>Yes</td>\n",
       "      <td>...</td>\n",
       "      <td>Yes</td>\n",
       "      <td>Yes</td>\n",
       "      <td>No</td>\n",
       "      <td>No</td>\n",
       "      <td>One year</td>\n",
       "      <td>No</td>\n",
       "      <td>Bank transfer (automatic)</td>\n",
       "      <td>42.30</td>\n",
       "      <td>1840.75</td>\n",
       "      <td>0</td>\n",
       "    </tr>\n",
       "    <tr>\n",
       "      <th>4</th>\n",
       "      <td>9237-HQITU</td>\n",
       "      <td>Female</td>\n",
       "      <td>0</td>\n",
       "      <td>No</td>\n",
       "      <td>No</td>\n",
       "      <td>2</td>\n",
       "      <td>Yes</td>\n",
       "      <td>No</td>\n",
       "      <td>Fiber optic</td>\n",
       "      <td>No</td>\n",
       "      <td>...</td>\n",
       "      <td>No</td>\n",
       "      <td>No</td>\n",
       "      <td>No</td>\n",
       "      <td>No</td>\n",
       "      <td>Month-to-month</td>\n",
       "      <td>Yes</td>\n",
       "      <td>Electronic check</td>\n",
       "      <td>70.70</td>\n",
       "      <td>151.65</td>\n",
       "      <td>1</td>\n",
       "    </tr>\n",
       "  </tbody>\n",
       "</table>\n",
       "<p>5 rows × 21 columns</p>\n",
       "</div>"
      ],
      "text/plain": [
       "   customerID  gender  SeniorCitizen Partner Dependents  tenure PhoneService  \\\n",
       "0  7590-VHVEG  Female              0     Yes         No       1           No   \n",
       "1  5575-GNVDE    Male              0      No         No      34          Yes   \n",
       "2  3668-QPYBK    Male              0      No         No       2          Yes   \n",
       "3  7795-CFOCW    Male              0      No         No      45           No   \n",
       "4  9237-HQITU  Female              0      No         No       2          Yes   \n",
       "\n",
       "      MultipleLines InternetService OnlineSecurity  ... DeviceProtection  \\\n",
       "0  No phone service             DSL             No  ...               No   \n",
       "1                No             DSL            Yes  ...              Yes   \n",
       "2                No             DSL            Yes  ...               No   \n",
       "3  No phone service             DSL            Yes  ...              Yes   \n",
       "4                No     Fiber optic             No  ...               No   \n",
       "\n",
       "  TechSupport StreamingTV StreamingMovies        Contract PaperlessBilling  \\\n",
       "0          No          No              No  Month-to-month              Yes   \n",
       "1          No          No              No        One year               No   \n",
       "2          No          No              No  Month-to-month              Yes   \n",
       "3         Yes          No              No        One year               No   \n",
       "4          No          No              No  Month-to-month              Yes   \n",
       "\n",
       "               PaymentMethod MonthlyCharges  TotalCharges  Churn  \n",
       "0           Electronic check          29.85         29.85      0  \n",
       "1               Mailed check          56.95       1889.50      0  \n",
       "2               Mailed check          53.85        108.15      1  \n",
       "3  Bank transfer (automatic)          42.30       1840.75      0  \n",
       "4           Electronic check          70.70        151.65      1  \n",
       "\n",
       "[5 rows x 21 columns]"
      ]
     },
     "execution_count": 94,
     "metadata": {},
     "output_type": "execute_result"
    }
   ],
   "source": [
    "# view data to get a sense of structure\n",
    "data_05_02.head()"
   ]
  },
  {
   "cell_type": "code",
   "execution_count": 96,
   "id": "b394c7d6",
   "metadata": {
    "scrolled": true
   },
   "outputs": [
    {
     "name": "stdout",
     "output_type": "stream",
     "text": [
      "<class 'pandas.core.frame.DataFrame'>\n",
      "RangeIndex: 7043 entries, 0 to 7042\n",
      "Data columns (total 21 columns):\n",
      " #   Column            Non-Null Count  Dtype  \n",
      "---  ------            --------------  -----  \n",
      " 0   customerID        7043 non-null   object \n",
      " 1   gender            7043 non-null   object \n",
      " 2   SeniorCitizen     7043 non-null   int64  \n",
      " 3   Partner           7043 non-null   object \n",
      " 4   Dependents        7043 non-null   object \n",
      " 5   tenure            7043 non-null   int64  \n",
      " 6   PhoneService      7043 non-null   object \n",
      " 7   MultipleLines     7043 non-null   object \n",
      " 8   InternetService   7043 non-null   object \n",
      " 9   OnlineSecurity    7043 non-null   object \n",
      " 10  OnlineBackup      7043 non-null   object \n",
      " 11  DeviceProtection  7043 non-null   object \n",
      " 12  TechSupport       7043 non-null   object \n",
      " 13  StreamingTV       7043 non-null   object \n",
      " 14  StreamingMovies   7043 non-null   object \n",
      " 15  Contract          7043 non-null   object \n",
      " 16  PaperlessBilling  7043 non-null   object \n",
      " 17  PaymentMethod     7043 non-null   object \n",
      " 18  MonthlyCharges    7043 non-null   float64\n",
      " 19  TotalCharges      7043 non-null   float64\n",
      " 20  Churn             7043 non-null   int64  \n",
      "dtypes: float64(2), int64(3), object(16)\n",
      "memory usage: 1.1+ MB\n"
     ]
    }
   ],
   "source": [
    "# view whether there are any null values, and data types\n",
    "\n",
    "data_05_02.info()"
   ]
  },
  {
   "cell_type": "code",
   "execution_count": 97,
   "id": "a401a67c",
   "metadata": {},
   "outputs": [],
   "source": [
    "# get rid of ID, since it is not relevant to modelling\n",
    "\n",
    "data_05_02.drop('customerID',axis=1,inplace=True)"
   ]
  },
  {
   "cell_type": "code",
   "execution_count": 98,
   "id": "67043328",
   "metadata": {},
   "outputs": [],
   "source": [
    "# shuffle data before splitting it, in case it is sorted\n",
    "\n",
    "data_05_02 = shuffle(data_05_02,random_state=42)"
   ]
  },
  {
   "cell_type": "code",
   "execution_count": 99,
   "id": "1417df87",
   "metadata": {},
   "outputs": [
    {
     "data": {
      "text/plain": [
       "0    0.73463\n",
       "1    0.26537\n",
       "Name: Churn, dtype: float64"
      ]
     },
     "execution_count": 99,
     "metadata": {},
     "output_type": "execute_result"
    }
   ],
   "source": [
    "# check to see split of the target variable outcomes\n",
    "\n",
    "data_05_02['Churn'].value_counts(normalize=True) #73% 0s"
   ]
  },
  {
   "cell_type": "code",
   "execution_count": 100,
   "id": "0423f444",
   "metadata": {},
   "outputs": [],
   "source": [
    "# split data into X and y sets for modelling\n",
    "\n",
    "X=data_05_02.drop('Churn',axis=1)\n",
    "y=data_05_02['Churn']\n",
    "\n",
    "X_train, X_test, y_train, y_test = train_test_split(X, y, test_size=0.2, random_state=42,stratify=y)"
   ]
  },
  {
   "cell_type": "code",
   "execution_count": 101,
   "id": "2a0b6cf6",
   "metadata": {},
   "outputs": [],
   "source": [
    "# use encoding to make categorical cols possible to read by the sk-learn modelling tools\n",
    "\n",
    "#create col names\n",
    "categorical_vars = ['gender','Partner','Dependents', 'PhoneService','MultipleLines','InternetService','OnlineSecurity','OnlineBackup','DeviceProtection','TechSupport','StreamingTV','StreamingMovies','Contract','PaperlessBilling','PaymentMethod']\n",
    "\n",
    "#insantiate encoder\n",
    "one_hot_encoder = OneHotEncoder(sparse=False, drop='first') #returns an array rather than an object\n",
    "\n",
    "#create arrays with encoded vals\n",
    "X_train_encoded = one_hot_encoder.fit_transform(X_train[categorical_vars])\n",
    "X_test_encoded = one_hot_encoder.transform(X_test[categorical_vars])\n",
    "\n",
    "#get feature names as rows and put it back in the array of dummy vars\n",
    "encoder_feature_names = one_hot_encoder.get_feature_names(categorical_vars)\n",
    "\n",
    "X_train_encoded = pd.DataFrame(X_train_encoded,columns=encoder_feature_names)\n",
    "X_train = pd.concat([X_train.reset_index(drop=True), X_train_encoded.reset_index(drop=True)], axis=1) #concat cols, make sure that all cols line up with drop=True\n",
    "X_train.drop(categorical_vars,axis=1, inplace=True)\n",
    "\n",
    "X_test_encoded = pd.DataFrame(X_test_encoded,columns=encoder_feature_names)\n",
    "X_test = pd.concat([X_test.reset_index(drop=True), X_test_encoded.reset_index(drop=True)], axis=1) #concat cols, make sure that all cols line up with drop=True\n",
    "X_test.drop(categorical_vars,axis=1, inplace=True)"
   ]
  },
  {
   "cell_type": "code",
   "execution_count": 117,
   "id": "861492c5",
   "metadata": {},
   "outputs": [
    {
     "data": {
      "text/plain": [
       "<sklearn.metrics._plot.confusion_matrix.ConfusionMatrixDisplay at 0x1da8229f8e0>"
      ]
     },
     "execution_count": 117,
     "metadata": {},
     "output_type": "execute_result"
    },
    {
     "data": {
      "image/png": "[encoded data removed]",
      "text/plain": [
       "<Figure size 432x288 with 2 Axes>"
      ]
     },
     "metadata": {
      "needs_background": "light"
     },
     "output_type": "display_data"
    }
   ],
   "source": [
    "# create, fit and train decision tree algorithm and display confusion matrix results\n",
    "\n",
    "clf=DecisionTreeClassifier(random_state=42,max_depth=4)\n",
    "clf.fit(X_train,y_train)\n",
    "\n",
    "################################################\n",
    "## Assesment\n",
    "################################################\n",
    "\n",
    "y_pred_class = clf.predict(X_test)\n",
    "y_pred_proba = clf.predict_proba(X_test)[:,1]\n",
    "\n",
    "\n",
    "confusion_matrix(y_test, y_pred_class)\n",
    "\n",
    "plot_confusion_matrix(clf,X_test,y_test,cmap='coolwarm')"
   ]
  },
  {
   "cell_type": "code",
   "execution_count": 113,
   "id": "fb90598e",
   "metadata": {},
   "outputs": [
    {
     "data": {
      "text/plain": [
       "0.7721788502484032"
      ]
     },
     "execution_count": 113,
     "metadata": {},
     "output_type": "execute_result"
    }
   ],
   "source": [
    "#Accuracy ((# of correct classifactions out of all attempted classifications))\n",
    "\n",
    "accuracy_score(y_test,y_pred_class)"
   ]
  },
  {
   "cell_type": "code",
   "execution_count": 114,
   "id": "0dd07c1e",
   "metadata": {},
   "outputs": [
    {
     "data": {
      "text/plain": [
       "0.5892255892255892"
      ]
     },
     "execution_count": 114,
     "metadata": {},
     "output_type": "execute_result"
    }
   ],
   "source": [
    "# Precision (of all observations that were predicted +, how many were actually +)\n",
    "\n",
    "precision_score(y_test,y_pred_class)"
   ]
  },
  {
   "cell_type": "code",
   "execution_count": 115,
   "id": "2fca4982",
   "metadata": {},
   "outputs": [
    {
     "data": {
      "text/plain": [
       "0.4679144385026738"
      ]
     },
     "execution_count": 115,
     "metadata": {},
     "output_type": "execute_result"
    }
   ],
   "source": [
    "#Recall (of all + observations, how many did we predict as +)\n",
    "\n",
    "recall_score(y_test,y_pred_class)"
   ]
  },
  {
   "cell_type": "code",
   "execution_count": 111,
   "id": "1fdb5049",
   "metadata": {},
   "outputs": [
    {
     "data": {
      "text/plain": [
       "0.5216095380029806"
      ]
     },
     "execution_count": 111,
     "metadata": {},
     "output_type": "execute_result"
    }
   ],
   "source": [
    "#f1 score (harmonic mean of recall and precision)\n",
    "\n",
    "f1_score(y_test,y_pred_class)"
   ]
  }
 ],
 "metadata": {
  "kernelspec": {
   "display_name": "Python 3 (ipykernel)",
   "language": "python",
   "name": "python3"
  },
  "language_info": {
   "codemirror_mode": {
    "name": "ipython",
    "version": 3
   },
   "file_extension": ".py",
   "mimetype": "text/x-python",
   "name": "python",
   "nbconvert_exporter": "python",
   "pygments_lexer": "ipython3",
   "version": "3.8.12"
  }
 },
 "nbformat": 4,
 "nbformat_minor": 5
}
