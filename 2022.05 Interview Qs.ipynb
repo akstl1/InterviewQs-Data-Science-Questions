{
 "cells": [
  {
   "cell_type": "markdown",
   "id": "4c76ba6c",
   "metadata": {},
   "source": [
    "Suppose you have two tables, one called 'orders', and one called 'revenue', as shown below: \n",
    "    \n",
    "\n",
    "    \n",
    "\n",
    " Orders: \n",
    "\n",
    "\n",
    "|order_id|\tchannel|\tdate|\tmonth|\n",
    "|---|---|---|---|\n",
    "|0\t|1\t|Online\t|2018-09-01\t|September\n",
    "|1\t|2\t|Online\t|2018-09-03\t|September\n",
    "|2\t|3\t|In_store\t|2018-10-11\t|October\n",
    "|3\t|4\t|In_store\t|2018-08-21\t|August\n",
    "|4\t|5\t|Online\t|2018-08-13\t|August\n",
    "|5\t|6\t|Online\t|2018-10-29\t|October\n",
    "    \n",
    "\n",
    "    \n",
    " Revenue: \n",
    "\n",
    "\n",
    "    \n",
    "|order_id|\trevenue|\n",
    "|---|---|\n",
    "|0\t|1\t|100|\n",
    "|1\t|2\t|125|\n",
    "|2\t|3\t|200|\n",
    "|3\t|4\t|80|\n",
    "|4\t|5\t|200|\n",
    "|5\t|6\t|100|\n",
    "    \n",
    "\n",
    "    \n",
    "    \n",
    " Using SQL, write a query to show the total revenue by channel for the months of September and October.\n",
    " \n",
    " select a.channel, a.month, sum(revenue) from <br>\n",
    " Orders a join Revenue b on a.order_id = b.order_id<br>\n",
    " GROUP BY a.channel, a.month"
   ]
  }
 ],
 "metadata": {
  "kernelspec": {
   "display_name": "Python 3 (ipykernel)",
   "language": "python",
   "name": "python3"
  },
  "language_info": {
   "codemirror_mode": {
    "name": "ipython",
    "version": 3
   },
   "file_extension": ".py",
   "mimetype": "text/x-python",
   "name": "python",
   "nbconvert_exporter": "python",
   "pygments_lexer": "ipython3",
   "version": "3.8.12"
  }
 },
 "nbformat": 4,
 "nbformat_minor": 5
}
