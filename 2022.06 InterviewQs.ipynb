{
 "cells": [
  {
   "cell_type": "markdown",
   "id": "6de71357",
   "metadata": {},
   "source": [
    "# 2022.06 InterviewQs"
   ]
  },
  {
   "cell_type": "markdown",
   "id": "0911a9f4",
   "metadata": {},
   "source": [
    "## 6/17 Question\n",
    "\n",
    "Suppose you are given a tuple containing ints and strings. Write a Python function to return the # of times a given element, n, appears in the tuple.\n",
    "\n",
    "For example, given the tuple below, where n=3, your function should return 4, since 3 appears 4 times in the tuple.\n",
    "\n",
    "input:\n",
    "\n",
    "n = 3\n",
    "    \n",
    "my_tuple = 2, 'my_string', 4, 3, 3, 3, 2, 3\n",
    "\n",
    "output:\n",
    "    \n",
    "4\n",
    "\n",
    "### Approach\n",
    "\n",
    "For this problem, I will use the built in count function to count the instances of n in the tuple. As an alternative solution, I will also write a function that uses a loop to go through the elements in the tuple and return the correct sum.\n",
    "\n",
    "### Solution"
   ]
  },
  {
   "cell_type": "code",
   "execution_count": 3,
   "id": "807330d4",
   "metadata": {},
   "outputs": [],
   "source": [
    "def count_tuple_element(tup,n):\n",
    "    return tup.count(n)\n",
    "\n",
    "def count_tuple_element2(tup,n):\n",
    "    count=0\n",
    "    for item in tup:\n",
    "        if item==n:\n",
    "            count+=1\n",
    "    return count"
   ]
  }
 ],
 "metadata": {
  "kernelspec": {
   "display_name": "Python 3 (ipykernel)",
   "language": "python",
   "name": "python3"
  },
  "language_info": {
   "codemirror_mode": {
    "name": "ipython",
    "version": 3
   },
   "file_extension": ".py",
   "mimetype": "text/x-python",
   "name": "python",
   "nbconvert_exporter": "python",
   "pygments_lexer": "ipython3",
   "version": "3.8.12"
  }
 },
 "nbformat": 4,
 "nbformat_minor": 5
}
