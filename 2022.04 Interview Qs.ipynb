{
 "cells": [
  {
   "cell_type": "markdown",
   "metadata": {},
   "source": [
    "# April 2022 Questions"
   ]
  },
  {
   "cell_type": "code",
   "execution_count": null,
   "metadata": {},
   "outputs": [],
   "source": []
  },
  {
   "cell_type": "code",
   "execution_count": null,
   "metadata": {},
   "outputs": [],
   "source": []
  },
  {
   "cell_type": "markdown",
   "metadata": {},
   "source": [
    "## 04/13 Question\n",
    "\n",
    "Suppose we are given an array of n integers which represent the value of some stock over time. Assuming you are allowed to buy the stock exactly once and sell the stock once, what is the maximum profit you can make? Can you write an algorithm that takes in an array of values and returns the maximum profit?\n",
    "    \n",
    "\n",
    "\n",
    "    \n",
    "    \n",
    " For example, if you are given the following array:\n",
    "\n",
    "\n",
    "    \n",
    "    \n",
    "[2, 7, 1, 8, 2, 8, 14, 25, 14, 0, 4, 5]\n",
    "    \n",
    "\n",
    "\n",
    "    \n",
    "\n",
    "    \n",
    " The maximum profit you can make is 24 because you would buy the stock when its price is 1 and sell when it's 25. Note that we cannot make 25, because the stock is priced at 0 after it is priced at 25 (e.g you can't sell before you buy).\n",
    " \n",
    " ## Approach\n",
    " \n",
    " To solve this problem, I will first initiate a max_profit variable to track the highest profit calculated thus far.\n",
    " \n",
    "I will then loop through each number in the provided array. For each of these loops, I will compare the first number to all those afterward and take the difference between them. If the difference, which would be a profit from buying/selling a stock, is higher than the current max profit value then it will be set as the new max profit value.\n",
    " \n",
    "At the end of the function, I will return the max profit variable."
   ]
  },
  {
   "cell_type": "code",
   "execution_count": 1,
   "metadata": {},
   "outputs": [],
   "source": [
    "def sell_stock(arr):\n",
    "    max_profit=0\n",
    "    for i in range(len(arr)-1):\n",
    "        current_price=arr[i]\n",
    "        for future_price in arr[i+1:]:\n",
    "            if future_price-current_price>max_profit:\n",
    "                max_profit = future_price-current_price\n",
    "    return max_profit"
   ]
  },
  {
   "cell_type": "markdown",
   "metadata": {},
   "source": [
    "## 04/11 Question\n",
    "\n",
    "Suppose your team interviews undergraduate candidates across many different colleges. You are looking to check which candidates scored the highest from each college.\n",
    "\n",
    "Given the below tables, write a SQL query (using a window function) to show which candidates scored the highest from each college.\n",
    "\n",
    "Table: candidateColleges\n",
    "\n",
    "\n",
    "|college_id\t|candidate_name|\n",
    "|---|---|\n",
    "|123456\t|john_smith|\n",
    "|123456\t|sarah_daniels|\n",
    "|123457\t|tim_cook|\n",
    "|123457\t|lisa_perelli|\n",
    "|123457\t|jenny_west|\n",
    "|123457\t|karl_tran|\n",
    "|123457\t|tammy_turner|\n",
    "\n",
    "    \n",
    "\n",
    "    \n",
    "Table: candidateInterviews\n",
    "\n",
    "Each row represents a unique interview/candidate as well as the candidate's score (an integer from 1-5, with 5 representing the highest possible score).\n",
    "\n",
    "|interview_id|\tcandidate_name|\tinterview_score|\n",
    "|---|---|---|\n",
    "|12|\tjohn_smith|\t4|\n",
    "|22|\tsarah_daniels|\t3|\n",
    "|23|\ttim_cook|\t3|\n",
    "|25|\tlisa_perelli|\t5|\n",
    "|26|\tjenny_west|\t2|\n",
    "|27|\tkarl_tran|\t2|\n",
    "|28|\ttammy_turner|\t4|\n",
    "\n",
    "\n",
    "### Approach\n",
    "\n",
    "To perform the above query, I will:\n",
    "- join the two tables on candidate_name\n",
    "- use the rank function to create a new column, ranking scores by college_id using the partition method/syntax\n",
    "- display the candidate name, college, score and rank ordered by college/score for better college-level comparison\n",
    "\n",
    "### Solution\n",
    "\n",
    "SELECT a.candidate_name AS Name,  <br>\n",
    "       b.college_id as College,<br>\n",
    "       a.interview_score AS Score, <br>\n",
    "       RANK () OVER ( PARTITION BY b.college_id ORDER BY a.interview_score DESC) AS Score_Rank_By_College <br>\n",
    "FROM  candidateInterviews a JOIN  candidateColleges b on a.candidate_name=b.candidate_name <br>\n",
    "order by College desc, Score Desc"
   ]
  },
  {
   "cell_type": "markdown",
   "metadata": {},
   "source": [
    "## 04/08 Question\n",
    "\n",
    "The following dataset contains the following fields that describe employee attrition for a company:\n",
    "    \n",
    "\n",
    "\n",
    "        \n",
    "satisfaction_level: value between 0 - 1 that describes how satisfied the employee was at their current role\n",
    " \n",
    "        \n",
    "last_evaluation: value between 0 - 1 that describes how well the employee performed\n",
    " \n",
    "        \n",
    "number_project: number of projects the employee was on\n",
    " \n",
    "        \n",
    "average_montly_hours: average number of hours worked monthly \n",
    "\n",
    "time_spend_company: number of years at the company\n",
    " \n",
    "        \n",
    "work_accident: boolean for if the employee has been in an accident at work\n",
    " \n",
    "        \n",
    "left: boolean that describes if the employee has left the company\n",
    " \n",
    "        \n",
    "role: employee's role\n",
    "\n",
    "        \n",
    "salary: low, medium, high --> indicates how high employee salary was\n",
    "\n",
    "    \n",
    "    \n",
    "\n",
    "    \n",
    "Can you describe which factors are the strongest indicator if an employee is going to attrit?\n",
    "Hint: If you're having trouble finding a starting point, you can reference this method and this wikipedia page.\n",
    "\n",
    "### Approach\n",
    "\n",
    "To solve this problem, I will perform two analyses.\n",
    "\n",
    "First, I will find the pearson's correlation coefficient between each of the columns and the \"left\" column. This coefficient should indicate how correlated the given column is to the target column. I will do this by writing a function to loop through each column, find the coefficient, and store that result in a dataframe.\n",
    "\n",
    "Second, I will train a random forest model on the data. Once the model is fit, I will then determine the permutation importance of each factor which should also provide an indication of which columns were more important when building the model.\n",
    "\n",
    "### Results\n",
    "\n",
    "Per the below, in the first approach I found correlation coefficients for each factor with the target. The goal was to find the factors with the highest coefficients. The analysis determined that time_spend_company and salary_low were the highest indicators of employee attrition.\n",
    "\n",
    "Interestingly, these were the 5th and 6th most important factors in the second analysis though some of the higher ranked factors had strong negative correlations in the first analysis (meaning that they were more strongly associated with an employee staying)."
   ]
  },
  {
   "cell_type": "code",
   "execution_count": 2,
   "metadata": {},
   "outputs": [],
   "source": [
    "import pandas as pd\n",
    "import matplotlib.pyplot as plt\n",
    "import seaborn as sns\n",
    "import numpy as np"
   ]
  },
  {
   "cell_type": "code",
   "execution_count": 91,
   "metadata": {},
   "outputs": [],
   "source": [
    "data_2022_04_08 = pd.read_csv(\"./Data/2022_04_08_data.csv\")"
   ]
  },
  {
   "cell_type": "code",
   "execution_count": 92,
   "metadata": {
    "scrolled": true
   },
   "outputs": [
    {
     "data": {
      "text/html": [
       "<div>\n",
       "<style scoped>\n",
       "    .dataframe tbody tr th:only-of-type {\n",
       "        vertical-align: middle;\n",
       "    }\n",
       "\n",
       "    .dataframe tbody tr th {\n",
       "        vertical-align: top;\n",
       "    }\n",
       "\n",
       "    .dataframe thead th {\n",
       "        text-align: right;\n",
       "    }\n",
       "</style>\n",
       "<table border=\"1\" class=\"dataframe\">\n",
       "  <thead>\n",
       "    <tr style=\"text-align: right;\">\n",
       "      <th></th>\n",
       "      <th>satisfaction_level</th>\n",
       "      <th>last_evaluation</th>\n",
       "      <th>number_project</th>\n",
       "      <th>average_montly_hours</th>\n",
       "      <th>time_spend_company</th>\n",
       "      <th>Work_accident</th>\n",
       "      <th>left</th>\n",
       "      <th>promotion_last_5years</th>\n",
       "      <th>sales</th>\n",
       "      <th>salary</th>\n",
       "    </tr>\n",
       "  </thead>\n",
       "  <tbody>\n",
       "    <tr>\n",
       "      <th>0</th>\n",
       "      <td>0.38</td>\n",
       "      <td>0.53</td>\n",
       "      <td>2</td>\n",
       "      <td>157</td>\n",
       "      <td>3</td>\n",
       "      <td>0</td>\n",
       "      <td>1</td>\n",
       "      <td>0</td>\n",
       "      <td>sales</td>\n",
       "      <td>low</td>\n",
       "    </tr>\n",
       "    <tr>\n",
       "      <th>1</th>\n",
       "      <td>0.80</td>\n",
       "      <td>0.86</td>\n",
       "      <td>5</td>\n",
       "      <td>262</td>\n",
       "      <td>6</td>\n",
       "      <td>0</td>\n",
       "      <td>1</td>\n",
       "      <td>0</td>\n",
       "      <td>sales</td>\n",
       "      <td>medium</td>\n",
       "    </tr>\n",
       "    <tr>\n",
       "      <th>2</th>\n",
       "      <td>0.11</td>\n",
       "      <td>0.88</td>\n",
       "      <td>7</td>\n",
       "      <td>272</td>\n",
       "      <td>4</td>\n",
       "      <td>0</td>\n",
       "      <td>1</td>\n",
       "      <td>0</td>\n",
       "      <td>sales</td>\n",
       "      <td>medium</td>\n",
       "    </tr>\n",
       "    <tr>\n",
       "      <th>3</th>\n",
       "      <td>0.72</td>\n",
       "      <td>0.87</td>\n",
       "      <td>5</td>\n",
       "      <td>223</td>\n",
       "      <td>5</td>\n",
       "      <td>0</td>\n",
       "      <td>1</td>\n",
       "      <td>0</td>\n",
       "      <td>sales</td>\n",
       "      <td>low</td>\n",
       "    </tr>\n",
       "    <tr>\n",
       "      <th>4</th>\n",
       "      <td>0.37</td>\n",
       "      <td>0.52</td>\n",
       "      <td>2</td>\n",
       "      <td>159</td>\n",
       "      <td>3</td>\n",
       "      <td>0</td>\n",
       "      <td>1</td>\n",
       "      <td>0</td>\n",
       "      <td>sales</td>\n",
       "      <td>low</td>\n",
       "    </tr>\n",
       "  </tbody>\n",
       "</table>\n",
       "</div>"
      ],
      "text/plain": [
       "   satisfaction_level  last_evaluation  number_project  average_montly_hours  \\\n",
       "0                0.38             0.53               2                   157   \n",
       "1                0.80             0.86               5                   262   \n",
       "2                0.11             0.88               7                   272   \n",
       "3                0.72             0.87               5                   223   \n",
       "4                0.37             0.52               2                   159   \n",
       "\n",
       "   time_spend_company  Work_accident  left  promotion_last_5years  sales  \\\n",
       "0                   3              0     1                      0  sales   \n",
       "1                   6              0     1                      0  sales   \n",
       "2                   4              0     1                      0  sales   \n",
       "3                   5              0     1                      0  sales   \n",
       "4                   3              0     1                      0  sales   \n",
       "\n",
       "   salary  \n",
       "0     low  \n",
       "1  medium  \n",
       "2  medium  \n",
       "3     low  \n",
       "4     low  "
      ]
     },
     "execution_count": 92,
     "metadata": {},
     "output_type": "execute_result"
    }
   ],
   "source": [
    "data_2022_04_08.head()"
   ]
  },
  {
   "cell_type": "code",
   "execution_count": 93,
   "metadata": {
    "scrolled": true
   },
   "outputs": [],
   "source": [
    "data_2022_04_08=pd.get_dummies(data_2022_04_08)"
   ]
  },
  {
   "cell_type": "code",
   "execution_count": 94,
   "metadata": {},
   "outputs": [],
   "source": [
    "def attrit_factors(df):\n",
    "    final_df=pd.DataFrame(columns=[\"factor\",\"coefficient\"])\n",
    "    for column in df.columns:\n",
    "        if column!=\"left\":\n",
    "            final_df=final_df.append({\"factor\": column, \"coefficient\":df[\"left\"].corr(df[column])}, ignore_index=True)\n",
    "    print(final_df.sort_values(by=\"coefficient\"))"
   ]
  },
  {
   "cell_type": "code",
   "execution_count": 95,
   "metadata": {
    "scrolled": true
   },
   "outputs": [
    {
     "name": "stdout",
     "output_type": "stream",
     "text": [
      "                   factor  coefficient\n",
      "0      satisfaction_level    -0.388375\n",
      "5           Work_accident    -0.154622\n",
      "17            salary_high    -0.120929\n",
      "19          salary_medium    -0.068833\n",
      "6   promotion_last_5years    -0.061788\n",
      "8             sales_RandD    -0.046596\n",
      "11       sales_management    -0.046035\n",
      "13      sales_product_mng    -0.011029\n",
      "7                sales_IT    -0.010925\n",
      "12        sales_marketing    -0.000859\n",
      "1         last_evaluation     0.006567\n",
      "14            sales_sales     0.009923\n",
      "15          sales_support     0.010700\n",
      "9        sales_accounting     0.015201\n",
      "16        sales_technical     0.020076\n",
      "2          number_project     0.023787\n",
      "10               sales_hr     0.028249\n",
      "3    average_montly_hours     0.071287\n",
      "18             salary_low     0.134722\n",
      "4      time_spend_company     0.144822\n"
     ]
    }
   ],
   "source": [
    "attrit_factors(data_2022_04_08)"
   ]
  },
  {
   "cell_type": "code",
   "execution_count": 96,
   "metadata": {},
   "outputs": [],
   "source": [
    "from sklearn.model_selection import train_test_split\n",
    "\n",
    "#ML model imports\n",
    "from sklearn.ensemble import RandomForestClassifier\n",
    "\n",
    "#metric and analysis imports\n",
    "from sklearn.metrics import confusion_matrix,plot_confusion_matrix,accuracy_score,precision_score,recall_score,f1_score\n",
    "from sklearn.inspection import permutation_importance\n"
   ]
  },
  {
   "cell_type": "code",
   "execution_count": 97,
   "metadata": {},
   "outputs": [],
   "source": [
    "X=data_2022_04_08.drop('left',axis=1)\n",
    "y=data_2022_04_08['left']\n",
    "\n",
    "X_train, X_test, y_train, y_test = train_test_split(X, y, test_size=0.2, random_state=42,stratify=y)"
   ]
  },
  {
   "cell_type": "code",
   "execution_count": 98,
   "metadata": {},
   "outputs": [],
   "source": [
    "def run_model(X_test,X_train, y_test,y_train, model):\n",
    "    model.fit(X_train,y_train)\n",
    "    y_pred_class = model.predict(X_test)\n",
    "    y_pred_proba = model.predict_proba(X_test)[:,1]\n",
    "    plot_confusion_matrix(model,X_test,y_test,cmap='coolwarm')\n",
    "    \n",
    "    #Accuracy ((# of correct classifactions out of all attempted classifications))\n",
    "    accuracy=accuracy_score(y_test,y_pred_class)\n",
    "    \n",
    "    # Precision (of all observations that were predicted +, how many were actually +)\n",
    "    precision=precision_score(y_test,y_pred_class)\n",
    "    \n",
    "    #Recall (of all + observations, how many did we predict as +)\n",
    "    recall=recall_score(y_test,y_pred_class)\n",
    "    \n",
    "    #f1 score (harmonic mean of recall and precision)\n",
    "    f1=f1_score(y_test,y_pred_class)\n",
    "    \n",
    "    nl='\\n'\n",
    "    return (print(f'Model: {model} {nl}accuracy: {accuracy} {nl}precision: {precision} {nl}recall: {recall} {nl}F1 score: {f1}'))"
   ]
  },
  {
   "cell_type": "code",
   "execution_count": 99,
   "metadata": {},
   "outputs": [],
   "source": [
    "random_forest_clf = RandomForestClassifier(random_state=42,n_estimators=500)"
   ]
  },
  {
   "cell_type": "code",
   "execution_count": 100,
   "metadata": {},
   "outputs": [
    {
     "name": "stdout",
     "output_type": "stream",
     "text": [
      "Model: RandomForestClassifier(n_estimators=500, random_state=42) \n",
      "accuracy: 0.99 \n",
      "precision: 0.9942196531791907 \n",
      "recall: 0.9635854341736695 \n",
      "F1 score: 0.9786628733997155\n"
     ]
    },
    {
     "data": {
      "image/png": "[encoded data removed]",
      "text/plain": [
       "<Figure size 432x288 with 2 Axes>"
      ]
     },
     "metadata": {
      "needs_background": "light"
     },
     "output_type": "display_data"
    }
   ],
   "source": [
    "run_model(X_test,X_train, y_test,y_train, random_forest_clf)"
   ]
  },
  {
   "cell_type": "code",
   "execution_count": 102,
   "metadata": {},
   "outputs": [
    {
     "data": {
      "image/png": "[encoded data removed]",
      "text/plain": [
       "<Figure size 432x288 with 1 Axes>"
      ]
     },
     "metadata": {
      "needs_background": "light"
     },
     "output_type": "display_data"
    }
   ],
   "source": [
    "################################################\n",
    "## Permutation feature importance \n",
    "################################################\n",
    "result = permutation_importance(random_forest_clf,X_test, y_test, n_repeats=10,random_state=42)\n",
    "\n",
    "permutation_importance=pd.DataFrame(result['importances_mean'])\n",
    "feature_names=pd.DataFrame(X.columns)\n",
    "permutation_importance_summary = pd.concat([feature_names,permutation_importance],axis=1)\n",
    "permutation_importance_summary.columns = ['input_variable','permutation_importance']\n",
    "permutation_importance_summary.sort_values(by='permutation_importance', inplace=True)\n",
    "\n",
    "plt.barh(permutation_importance_summary['input_variable'],permutation_importance_summary['permutation_importance'])\n",
    "plt.title(\"Permutation Importance of Random Forests\")\n",
    "plt.xlabel(\"Permutation Importance\")\n",
    "plt.tight_layout()\n",
    "plt.show()"
   ]
  },
  {
   "cell_type": "markdown",
   "metadata": {},
   "source": [
    "## 04/04 Question\n",
    "\n",
    "Given an array of integers, print the array in alternating min/max order. The first element should be the first maximum, second element should be the first minimum, third element should be second maximum, etc.\n",
    "\n",
    "For example:\n",
    "    \n",
    "#Given the following array:\n",
    "  \n",
    "arr[] = [10, 2, 11, 3, 7, 4, 1] \n",
    "\n",
    "#Your function should return:\n",
    "\n",
    "11, 1, 10, 2, 7, 3, 4\n",
    "\n",
    "### Approach\n",
    "\n",
    "To solve this proble, I will create a function that will do as follows:\n",
    "- Take in an array\n",
    "- Initiate an empty res array to store the final result\n",
    "- Initiate a queue with our input array\n",
    "- Use a while loop to go through the sorted data\n",
    "    - While there are more than 1 items in the queue, pop and popleft and append the results to the res variable\n",
    "- When there is 0 or 1 item in the array, append the remaining value (if there is one) to the res variable\n",
    "- return res variable\n",
    "\n",
    "### Solution"
   ]
  },
  {
   "cell_type": "code",
   "execution_count": 46,
   "metadata": {},
   "outputs": [],
   "source": [
    "from collections import deque\n",
    "\n",
    "def min_max_order(arr):\n",
    "    res=[]\n",
    "    queue=deque(sorted(arr))\n",
    "    while len(queue)>1:\n",
    "        res.append(queue.pop())\n",
    "        res.append(queue.popleft())\n",
    "    if queue:\n",
    "        res.append(queue.pop())\n",
    "    return res"
   ]
  },
  {
   "cell_type": "code",
   "execution_count": 47,
   "metadata": {},
   "outputs": [
    {
     "data": {
      "text/plain": [
       "[11, 1, 10, 2, 7, 3, 5, 4]"
      ]
     },
     "execution_count": 47,
     "metadata": {},
     "output_type": "execute_result"
    }
   ],
   "source": [
    "min_max_order([10,2,11,3,7,4,1,5])"
   ]
  },
  {
   "cell_type": "markdown",
   "metadata": {},
   "source": [
    "## 04/01 Question\n",
    "\n",
    "Given the following table containing customer transaction data:\n",
    "\n",
    "\n",
    "      \n",
    "Table name: orders \n",
    "\n",
    "\n",
    "      \n",
    "|order_id|\tchannel|\tdate|\tmonth|\trevenue|\n",
    "|---|---|---|---|---|\n",
    "|0\t|1\t|Online\t|2018-09-01\t|09\t|100|\n",
    "|1\t|2\t|Online\t|2018-09-03\t|09\t|125|\n",
    "|2\t|3\t|In_store\t|2018-10-11\t|10\t|200|\n",
    "|3\t|4\t|In_store\t|2018-08-21\t|08\t|80|\n",
    "|4\t|5\t|Online\t|2018-08-13\t|08\t|200|\n",
    "|5\t|6\t|Online\t|2018-10-29\t|10\t|100|\n",
    "    \n",
    "Write SQL queries to answer the following:\n",
    "  \n",
    "- Return all rows in the data table with transaction values over \\$101.\n",
    "- Return all rows in the data table with transaction values over \\$101 that were purchased through the Online channel.\n",
    "- Return all rows in the data table with transaction values that were either over \\$101 OR were purchased In_store.\n",
    "- Return the minimum transaction amount for both channels as well as the corresponding order id.\n",
    "\n",
    "### Solution \n",
    "\n",
    "SELECT * FROM orders WHERE revenue>101 ;\n",
    "\n",
    "SELECT * FROM orders WHERE revenue>101 AND channel = \"Online\";\n",
    "\n",
    "SELECT * FROM orders WHERE revenue>101 OR channel = \"In_store\";\n",
    "\n",
    "SELECT channel, order_id, min(revenue) FROM orders GROUP BY channel;\n",
    "\n"
   ]
  }
 ],
 "metadata": {
  "kernelspec": {
   "display_name": "Python 3",
   "language": "python",
   "name": "python3"
  },
  "language_info": {
   "codemirror_mode": {
    "name": "ipython",
    "version": 3
   },
   "file_extension": ".py",
   "mimetype": "text/x-python",
   "name": "python",
   "nbconvert_exporter": "python",
   "pygments_lexer": "ipython3",
   "version": "3.8.5"
  }
 },
 "nbformat": 4,
 "nbformat_minor": 4
}
